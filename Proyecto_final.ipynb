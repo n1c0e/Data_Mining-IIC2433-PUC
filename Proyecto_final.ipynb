{
  "cells": [
    {
      "cell_type": "markdown",
      "metadata": {
        "id": "view-in-github",
        "colab_type": "text"
      },
      "source": [
        "<a href=\"https://colab.research.google.com/github/n1c0e/Data_Mining-IIC2433-PUC/blob/main/Proyecto_final.ipynb\" target=\"_parent\"><img src=\"https://colab.research.google.com/assets/colab-badge.svg\" alt=\"Open In Colab\"/></a>"
      ]
    },
    {
      "cell_type": "markdown",
      "metadata": {
        "id": "M1rBnq_mMLUu"
      },
      "source": [
        "Pontificia Universidad Católica de Chile <br>\n",
        "Departamento de Ciencia de la Computación <br>\n",
        "IIC2433 - Minería de Datos\n",
        "<br>\n",
        "\n",
        "<center>\n",
        "    <h2> Entrega 3 </h2>\n",
        "    <p>\n",
        "        Profesor Marcelo Mendoza<br>\n",
        "        Segundo Semestre 2022<br>    \n",
        "    </p>\n",
        "    <br>\n",
        "</center>\n",
        "<br>\n",
        "\n",
        "Autores: <br>\n",
        "Nicolás Espina <br>\n",
        "Gabriel Catalán <br>\n",
        "Sofía Rebolledo <br>\n",
        "Jonathan Riquelme <br>\n",
        "\n",
        "\n",
        "\n",
        "---"
      ]
    },
    {
      "cell_type": "markdown",
      "source": [
        "## Setup\n"
      ],
      "metadata": {
        "id": "SbAjtaxQSyU1"
      }
    },
    {
      "cell_type": "code",
      "source": [
        "from IPython.display import clear_output\n",
        "\n",
        "!pip3 uninstall spacy\n",
        "!pip3 install spacy\n",
        "\n",
        "!spacy download en_core_web_lg\n",
        "clear_output()\n",
        "print('Ahora debes reiniciar el entorno de ejecución y ejecutar a partir de la siguiente celda')"
      ],
      "metadata": {
        "id": "7MwOI68iSxzG",
        "colab": {
          "base_uri": "https://localhost:8080/"
        },
        "outputId": "65da22b3-815f-46d5-ecac-ec2795571a56"
      },
      "execution_count": 29,
      "outputs": [
        {
          "output_type": "stream",
          "name": "stdout",
          "text": [
            "Ahora debes reiniciar el entorno de ejecución y ejecutar a partir de la siguiente celda\n"
          ]
        }
      ]
    },
    {
      "cell_type": "code",
      "source": [
        "# Librerías\n",
        "import pandas as pd\n",
        "import numpy as np\n",
        "from collections import defaultdict\n",
        "import spacy\n",
        "\n",
        "from sklearn.model_selection import train_test_split, StratifiedKFold\n",
        "from sklearn.decomposition import PCA\n",
        "from sklearn.svm import LinearSVC, SVC\n",
        "from sklearn.ensemble import RandomForestClassifier as RFC\n",
        "from sklearn.ensemble import AdaBoostClassifier, GradientBoostingClassifier\n",
        "from sklearn.model_selection import GridSearchCV\n",
        "from sklearn.neural_network import MLPClassifier\n",
        "from sklearn.metrics import confusion_matrix, ConfusionMatrixDisplay\n",
        "from sklearn import metrics\n",
        "from sklearn.tree import DecisionTreeClassifier as DTC\n",
        "import itertools\n",
        "import time\n",
        "import matplotlib.pyplot as plt\n",
        "import seaborn as sb"
      ],
      "metadata": {
        "id": "-T1Dy2hKSwdZ"
      },
      "execution_count": 30,
      "outputs": []
    },
    {
      "cell_type": "code",
      "source": [
        "nlp = spacy.load(\"en_core_web_lg\")"
      ],
      "metadata": {
        "id": "HhOI_bandiPz"
      },
      "execution_count": 31,
      "outputs": []
    },
    {
      "cell_type": "markdown",
      "source": [
        "## Importar dataset"
      ],
      "metadata": {
        "id": "dHbdD91DMP7X"
      }
    },
    {
      "cell_type": "code",
      "source": [
        "data_train_url = \"/train.dat\"\n",
        "data_test_url = \"/test.dat\"\n",
        "\n",
        "DATA_TRAIN = pd.read_csv(data_train_url, sep='\t', header=None, names=['label', 'abstract'])\n",
        "DATA_TEST = pd.read_csv(data_test_url, sep='\t', header=None, names=['abstract'])\n",
        "DATA_TRAIN.head()"
      ],
      "metadata": {
        "id": "O5TZNy00SpJ7",
        "colab": {
          "base_uri": "https://localhost:8080/",
          "height": 206
        },
        "outputId": "5f4c9a8c-1a60-48d7-f071-f2f635030734"
      },
      "execution_count": 5,
      "outputs": [
        {
          "output_type": "execute_result",
          "data": {
            "text/plain": [
              "   label                                           abstract\n",
              "0      4  Catheterization laboratory events and hospital...\n",
              "1      5  Renal abscess in children. Three cases of rena...\n",
              "2      2  Hyperplastic polyps seen at sigmoidoscopy are ...\n",
              "3      5  Subclavian artery to innominate vein fistula a...\n",
              "4      4  Effect of local inhibition of gamma-aminobutyr..."
            ],
            "text/html": [
              "\n",
              "  <div id=\"df-4373cd70-998f-4bb6-8cf3-aa80038b5ec8\">\n",
              "    <div class=\"colab-df-container\">\n",
              "      <div>\n",
              "<style scoped>\n",
              "    .dataframe tbody tr th:only-of-type {\n",
              "        vertical-align: middle;\n",
              "    }\n",
              "\n",
              "    .dataframe tbody tr th {\n",
              "        vertical-align: top;\n",
              "    }\n",
              "\n",
              "    .dataframe thead th {\n",
              "        text-align: right;\n",
              "    }\n",
              "</style>\n",
              "<table border=\"1\" class=\"dataframe\">\n",
              "  <thead>\n",
              "    <tr style=\"text-align: right;\">\n",
              "      <th></th>\n",
              "      <th>label</th>\n",
              "      <th>abstract</th>\n",
              "    </tr>\n",
              "  </thead>\n",
              "  <tbody>\n",
              "    <tr>\n",
              "      <th>0</th>\n",
              "      <td>4</td>\n",
              "      <td>Catheterization laboratory events and hospital...</td>\n",
              "    </tr>\n",
              "    <tr>\n",
              "      <th>1</th>\n",
              "      <td>5</td>\n",
              "      <td>Renal abscess in children. Three cases of rena...</td>\n",
              "    </tr>\n",
              "    <tr>\n",
              "      <th>2</th>\n",
              "      <td>2</td>\n",
              "      <td>Hyperplastic polyps seen at sigmoidoscopy are ...</td>\n",
              "    </tr>\n",
              "    <tr>\n",
              "      <th>3</th>\n",
              "      <td>5</td>\n",
              "      <td>Subclavian artery to innominate vein fistula a...</td>\n",
              "    </tr>\n",
              "    <tr>\n",
              "      <th>4</th>\n",
              "      <td>4</td>\n",
              "      <td>Effect of local inhibition of gamma-aminobutyr...</td>\n",
              "    </tr>\n",
              "  </tbody>\n",
              "</table>\n",
              "</div>\n",
              "      <button class=\"colab-df-convert\" onclick=\"convertToInteractive('df-4373cd70-998f-4bb6-8cf3-aa80038b5ec8')\"\n",
              "              title=\"Convert this dataframe to an interactive table.\"\n",
              "              style=\"display:none;\">\n",
              "        \n",
              "  <svg xmlns=\"http://www.w3.org/2000/svg\" height=\"24px\"viewBox=\"0 0 24 24\"\n",
              "       width=\"24px\">\n",
              "    <path d=\"M0 0h24v24H0V0z\" fill=\"none\"/>\n",
              "    <path d=\"M18.56 5.44l.94 2.06.94-2.06 2.06-.94-2.06-.94-.94-2.06-.94 2.06-2.06.94zm-11 1L8.5 8.5l.94-2.06 2.06-.94-2.06-.94L8.5 2.5l-.94 2.06-2.06.94zm10 10l.94 2.06.94-2.06 2.06-.94-2.06-.94-.94-2.06-.94 2.06-2.06.94z\"/><path d=\"M17.41 7.96l-1.37-1.37c-.4-.4-.92-.59-1.43-.59-.52 0-1.04.2-1.43.59L10.3 9.45l-7.72 7.72c-.78.78-.78 2.05 0 2.83L4 21.41c.39.39.9.59 1.41.59.51 0 1.02-.2 1.41-.59l7.78-7.78 2.81-2.81c.8-.78.8-2.07 0-2.86zM5.41 20L4 18.59l7.72-7.72 1.47 1.35L5.41 20z\"/>\n",
              "  </svg>\n",
              "      </button>\n",
              "      \n",
              "  <style>\n",
              "    .colab-df-container {\n",
              "      display:flex;\n",
              "      flex-wrap:wrap;\n",
              "      gap: 12px;\n",
              "    }\n",
              "\n",
              "    .colab-df-convert {\n",
              "      background-color: #E8F0FE;\n",
              "      border: none;\n",
              "      border-radius: 50%;\n",
              "      cursor: pointer;\n",
              "      display: none;\n",
              "      fill: #1967D2;\n",
              "      height: 32px;\n",
              "      padding: 0 0 0 0;\n",
              "      width: 32px;\n",
              "    }\n",
              "\n",
              "    .colab-df-convert:hover {\n",
              "      background-color: #E2EBFA;\n",
              "      box-shadow: 0px 1px 2px rgba(60, 64, 67, 0.3), 0px 1px 3px 1px rgba(60, 64, 67, 0.15);\n",
              "      fill: #174EA6;\n",
              "    }\n",
              "\n",
              "    [theme=dark] .colab-df-convert {\n",
              "      background-color: #3B4455;\n",
              "      fill: #D2E3FC;\n",
              "    }\n",
              "\n",
              "    [theme=dark] .colab-df-convert:hover {\n",
              "      background-color: #434B5C;\n",
              "      box-shadow: 0px 1px 3px 1px rgba(0, 0, 0, 0.15);\n",
              "      filter: drop-shadow(0px 1px 2px rgba(0, 0, 0, 0.3));\n",
              "      fill: #FFFFFF;\n",
              "    }\n",
              "  </style>\n",
              "\n",
              "      <script>\n",
              "        const buttonEl =\n",
              "          document.querySelector('#df-4373cd70-998f-4bb6-8cf3-aa80038b5ec8 button.colab-df-convert');\n",
              "        buttonEl.style.display =\n",
              "          google.colab.kernel.accessAllowed ? 'block' : 'none';\n",
              "\n",
              "        async function convertToInteractive(key) {\n",
              "          const element = document.querySelector('#df-4373cd70-998f-4bb6-8cf3-aa80038b5ec8');\n",
              "          const dataTable =\n",
              "            await google.colab.kernel.invokeFunction('convertToInteractive',\n",
              "                                                     [key], {});\n",
              "          if (!dataTable) return;\n",
              "\n",
              "          const docLinkHtml = 'Like what you see? Visit the ' +\n",
              "            '<a target=\"_blank\" href=https://colab.research.google.com/notebooks/data_table.ipynb>data table notebook</a>'\n",
              "            + ' to learn more about interactive tables.';\n",
              "          element.innerHTML = '';\n",
              "          dataTable['output_type'] = 'display_data';\n",
              "          await google.colab.output.renderOutput(dataTable, element);\n",
              "          const docLink = document.createElement('div');\n",
              "          docLink.innerHTML = docLinkHtml;\n",
              "          element.appendChild(docLink);\n",
              "        }\n",
              "      </script>\n",
              "    </div>\n",
              "  </div>\n",
              "  "
            ]
          },
          "metadata": {},
          "execution_count": 5
        }
      ]
    },
    {
      "cell_type": "code",
      "source": [
        "DATA_TEST.head()"
      ],
      "metadata": {
        "id": "WD6W-aOZUyG1",
        "colab": {
          "base_uri": "https://localhost:8080/",
          "height": 206
        },
        "outputId": "e1feaab1-eb3a-49ac-cb85-35d8bcb7a75d"
      },
      "execution_count": 6,
      "outputs": [
        {
          "output_type": "execute_result",
          "data": {
            "text/plain": [
              "                                            abstract\n",
              "0  Excision of limbal dermoids. We reviewed the c...\n",
              "1  Bell's palsy. A diagnosis of exclusion. In cas...\n",
              "2  Retained endobronchial foreign body removal fa...\n",
              "3  Recurrent buccal space abscesses: a complicati...\n",
              "4  Intracranial fibromatosis. Fibromatoses are un..."
            ],
            "text/html": [
              "\n",
              "  <div id=\"df-e9a02e29-4313-487e-9507-c370c5c8ed32\">\n",
              "    <div class=\"colab-df-container\">\n",
              "      <div>\n",
              "<style scoped>\n",
              "    .dataframe tbody tr th:only-of-type {\n",
              "        vertical-align: middle;\n",
              "    }\n",
              "\n",
              "    .dataframe tbody tr th {\n",
              "        vertical-align: top;\n",
              "    }\n",
              "\n",
              "    .dataframe thead th {\n",
              "        text-align: right;\n",
              "    }\n",
              "</style>\n",
              "<table border=\"1\" class=\"dataframe\">\n",
              "  <thead>\n",
              "    <tr style=\"text-align: right;\">\n",
              "      <th></th>\n",
              "      <th>abstract</th>\n",
              "    </tr>\n",
              "  </thead>\n",
              "  <tbody>\n",
              "    <tr>\n",
              "      <th>0</th>\n",
              "      <td>Excision of limbal dermoids. We reviewed the c...</td>\n",
              "    </tr>\n",
              "    <tr>\n",
              "      <th>1</th>\n",
              "      <td>Bell's palsy. A diagnosis of exclusion. In cas...</td>\n",
              "    </tr>\n",
              "    <tr>\n",
              "      <th>2</th>\n",
              "      <td>Retained endobronchial foreign body removal fa...</td>\n",
              "    </tr>\n",
              "    <tr>\n",
              "      <th>3</th>\n",
              "      <td>Recurrent buccal space abscesses: a complicati...</td>\n",
              "    </tr>\n",
              "    <tr>\n",
              "      <th>4</th>\n",
              "      <td>Intracranial fibromatosis. Fibromatoses are un...</td>\n",
              "    </tr>\n",
              "  </tbody>\n",
              "</table>\n",
              "</div>\n",
              "      <button class=\"colab-df-convert\" onclick=\"convertToInteractive('df-e9a02e29-4313-487e-9507-c370c5c8ed32')\"\n",
              "              title=\"Convert this dataframe to an interactive table.\"\n",
              "              style=\"display:none;\">\n",
              "        \n",
              "  <svg xmlns=\"http://www.w3.org/2000/svg\" height=\"24px\"viewBox=\"0 0 24 24\"\n",
              "       width=\"24px\">\n",
              "    <path d=\"M0 0h24v24H0V0z\" fill=\"none\"/>\n",
              "    <path d=\"M18.56 5.44l.94 2.06.94-2.06 2.06-.94-2.06-.94-.94-2.06-.94 2.06-2.06.94zm-11 1L8.5 8.5l.94-2.06 2.06-.94-2.06-.94L8.5 2.5l-.94 2.06-2.06.94zm10 10l.94 2.06.94-2.06 2.06-.94-2.06-.94-.94-2.06-.94 2.06-2.06.94z\"/><path d=\"M17.41 7.96l-1.37-1.37c-.4-.4-.92-.59-1.43-.59-.52 0-1.04.2-1.43.59L10.3 9.45l-7.72 7.72c-.78.78-.78 2.05 0 2.83L4 21.41c.39.39.9.59 1.41.59.51 0 1.02-.2 1.41-.59l7.78-7.78 2.81-2.81c.8-.78.8-2.07 0-2.86zM5.41 20L4 18.59l7.72-7.72 1.47 1.35L5.41 20z\"/>\n",
              "  </svg>\n",
              "      </button>\n",
              "      \n",
              "  <style>\n",
              "    .colab-df-container {\n",
              "      display:flex;\n",
              "      flex-wrap:wrap;\n",
              "      gap: 12px;\n",
              "    }\n",
              "\n",
              "    .colab-df-convert {\n",
              "      background-color: #E8F0FE;\n",
              "      border: none;\n",
              "      border-radius: 50%;\n",
              "      cursor: pointer;\n",
              "      display: none;\n",
              "      fill: #1967D2;\n",
              "      height: 32px;\n",
              "      padding: 0 0 0 0;\n",
              "      width: 32px;\n",
              "    }\n",
              "\n",
              "    .colab-df-convert:hover {\n",
              "      background-color: #E2EBFA;\n",
              "      box-shadow: 0px 1px 2px rgba(60, 64, 67, 0.3), 0px 1px 3px 1px rgba(60, 64, 67, 0.15);\n",
              "      fill: #174EA6;\n",
              "    }\n",
              "\n",
              "    [theme=dark] .colab-df-convert {\n",
              "      background-color: #3B4455;\n",
              "      fill: #D2E3FC;\n",
              "    }\n",
              "\n",
              "    [theme=dark] .colab-df-convert:hover {\n",
              "      background-color: #434B5C;\n",
              "      box-shadow: 0px 1px 3px 1px rgba(0, 0, 0, 0.15);\n",
              "      filter: drop-shadow(0px 1px 2px rgba(0, 0, 0, 0.3));\n",
              "      fill: #FFFFFF;\n",
              "    }\n",
              "  </style>\n",
              "\n",
              "      <script>\n",
              "        const buttonEl =\n",
              "          document.querySelector('#df-e9a02e29-4313-487e-9507-c370c5c8ed32 button.colab-df-convert');\n",
              "        buttonEl.style.display =\n",
              "          google.colab.kernel.accessAllowed ? 'block' : 'none';\n",
              "\n",
              "        async function convertToInteractive(key) {\n",
              "          const element = document.querySelector('#df-e9a02e29-4313-487e-9507-c370c5c8ed32');\n",
              "          const dataTable =\n",
              "            await google.colab.kernel.invokeFunction('convertToInteractive',\n",
              "                                                     [key], {});\n",
              "          if (!dataTable) return;\n",
              "\n",
              "          const docLinkHtml = 'Like what you see? Visit the ' +\n",
              "            '<a target=\"_blank\" href=https://colab.research.google.com/notebooks/data_table.ipynb>data table notebook</a>'\n",
              "            + ' to learn more about interactive tables.';\n",
              "          element.innerHTML = '';\n",
              "          dataTable['output_type'] = 'display_data';\n",
              "          await google.colab.output.renderOutput(dataTable, element);\n",
              "          const docLink = document.createElement('div');\n",
              "          docLink.innerHTML = docLinkHtml;\n",
              "          element.appendChild(docLink);\n",
              "        }\n",
              "      </script>\n",
              "    </div>\n",
              "  </div>\n",
              "  "
            ]
          },
          "metadata": {},
          "execution_count": 6
        }
      ]
    },
    {
      "cell_type": "markdown",
      "source": [
        "## Preprocesamiento de datos"
      ],
      "metadata": {
        "id": "GeqNreADMS0n"
      }
    },
    {
      "cell_type": "code",
      "source": [
        "# Funciones dadas la tarea 2\n",
        "import string\n",
        "\n",
        "all_stopwords = nlp.Defaults.stop_words\n",
        "\n",
        "def remove_punctuation(text):\n",
        "  text = [token for token in text if not token.is_punct]\n",
        "  return text\n",
        "\n",
        "def remove_stopwords(words):\n",
        "  words = [word for word in words if not word in all_stopwords]\n",
        "  return words\n",
        "\n",
        "def lemmatize(words):\n",
        "  words = [word.lemma_ for word in words]\n",
        "  return words\n",
        "\n",
        "def remove_non_alpha(words):\n",
        "  words = [word for word in words if word.isalpha()]\n",
        "  return words\n",
        "\n",
        "def lower(words):\n",
        "  words = [word.lower() for word in words]\n",
        "  return words\n",
        "\n",
        "def preprocess(text):\n",
        "\n",
        "  doc = nlp(text)\n",
        "  tokens = remove_punctuation(doc)\n",
        "  tokens = remove_stopwords(tokens)\n",
        "  tokens = lemmatize(tokens)\n",
        "  tokens = remove_non_alpha(tokens)\n",
        "  tokens = lower(tokens)\n",
        "\n",
        "  return ' '.join(tokens).strip()\n",
        "\n",
        "\n",
        "def sentence_vector(text):\n",
        "  text = nlp(text)\n",
        "  vectores = []\n",
        "  for t in text:\n",
        "    t_vector = t.vector\n",
        "    vectores.append(t_vector)\n",
        "  return np.array(vectores).sum(axis=0)/len(vectores)"
      ],
      "metadata": {
        "id": "fUbQ87H6MWQ2"
      },
      "execution_count": 7,
      "outputs": []
    },
    {
      "cell_type": "markdown",
      "source": [
        "Vectorizar train data"
      ],
      "metadata": {
        "id": "TnASLDJ0YD-4"
      }
    },
    {
      "cell_type": "code",
      "source": [
        "# df_train = DATA_TRAIN.copy().drop(df_train.index[500:])\n",
        "df_train = DATA_TRAIN.copy().sample(n=750)\n",
        "df_train"
      ],
      "metadata": {
        "id": "j_2uI-k0WSq_",
        "colab": {
          "base_uri": "https://localhost:8080/",
          "height": 424
        },
        "outputId": "96a019f4-67f9-4f01-be86-6fb82c110270"
      },
      "execution_count": 8,
      "outputs": [
        {
          "output_type": "execute_result",
          "data": {
            "text/plain": [
              "       label                                           abstract\n",
              "5268       5  Spontaneous rupture of a normal bladder. We ha...\n",
              "8913       2  Detection of active intraabdominal arterial he...\n",
              "7548       5  Vaginal bleeding in childhood and adolescence....\n",
              "7278       3  Fulminant hepatitis after lisinopril administr...\n",
              "9992       2  Outpatient health care utilization of patients...\n",
              "...      ...                                                ...\n",
              "5605       1  Ampullary tumor caused by metastatic renal cel...\n",
              "7912       4  Change in sympathetic activity before, during,...\n",
              "13664      3  Clinical judgments in pain management. From re...\n",
              "5831       1  Technetium-99m(v) dimercaptosuccinic acid plan...\n",
              "5846       5  Amenorrhea, osteopenia, and the female athlete...\n",
              "\n",
              "[750 rows x 2 columns]"
            ],
            "text/html": [
              "\n",
              "  <div id=\"df-382810d8-fb50-43f8-85ab-f911f70edf5d\">\n",
              "    <div class=\"colab-df-container\">\n",
              "      <div>\n",
              "<style scoped>\n",
              "    .dataframe tbody tr th:only-of-type {\n",
              "        vertical-align: middle;\n",
              "    }\n",
              "\n",
              "    .dataframe tbody tr th {\n",
              "        vertical-align: top;\n",
              "    }\n",
              "\n",
              "    .dataframe thead th {\n",
              "        text-align: right;\n",
              "    }\n",
              "</style>\n",
              "<table border=\"1\" class=\"dataframe\">\n",
              "  <thead>\n",
              "    <tr style=\"text-align: right;\">\n",
              "      <th></th>\n",
              "      <th>label</th>\n",
              "      <th>abstract</th>\n",
              "    </tr>\n",
              "  </thead>\n",
              "  <tbody>\n",
              "    <tr>\n",
              "      <th>5268</th>\n",
              "      <td>5</td>\n",
              "      <td>Spontaneous rupture of a normal bladder. We ha...</td>\n",
              "    </tr>\n",
              "    <tr>\n",
              "      <th>8913</th>\n",
              "      <td>2</td>\n",
              "      <td>Detection of active intraabdominal arterial he...</td>\n",
              "    </tr>\n",
              "    <tr>\n",
              "      <th>7548</th>\n",
              "      <td>5</td>\n",
              "      <td>Vaginal bleeding in childhood and adolescence....</td>\n",
              "    </tr>\n",
              "    <tr>\n",
              "      <th>7278</th>\n",
              "      <td>3</td>\n",
              "      <td>Fulminant hepatitis after lisinopril administr...</td>\n",
              "    </tr>\n",
              "    <tr>\n",
              "      <th>9992</th>\n",
              "      <td>2</td>\n",
              "      <td>Outpatient health care utilization of patients...</td>\n",
              "    </tr>\n",
              "    <tr>\n",
              "      <th>...</th>\n",
              "      <td>...</td>\n",
              "      <td>...</td>\n",
              "    </tr>\n",
              "    <tr>\n",
              "      <th>5605</th>\n",
              "      <td>1</td>\n",
              "      <td>Ampullary tumor caused by metastatic renal cel...</td>\n",
              "    </tr>\n",
              "    <tr>\n",
              "      <th>7912</th>\n",
              "      <td>4</td>\n",
              "      <td>Change in sympathetic activity before, during,...</td>\n",
              "    </tr>\n",
              "    <tr>\n",
              "      <th>13664</th>\n",
              "      <td>3</td>\n",
              "      <td>Clinical judgments in pain management. From re...</td>\n",
              "    </tr>\n",
              "    <tr>\n",
              "      <th>5831</th>\n",
              "      <td>1</td>\n",
              "      <td>Technetium-99m(v) dimercaptosuccinic acid plan...</td>\n",
              "    </tr>\n",
              "    <tr>\n",
              "      <th>5846</th>\n",
              "      <td>5</td>\n",
              "      <td>Amenorrhea, osteopenia, and the female athlete...</td>\n",
              "    </tr>\n",
              "  </tbody>\n",
              "</table>\n",
              "<p>750 rows × 2 columns</p>\n",
              "</div>\n",
              "      <button class=\"colab-df-convert\" onclick=\"convertToInteractive('df-382810d8-fb50-43f8-85ab-f911f70edf5d')\"\n",
              "              title=\"Convert this dataframe to an interactive table.\"\n",
              "              style=\"display:none;\">\n",
              "        \n",
              "  <svg xmlns=\"http://www.w3.org/2000/svg\" height=\"24px\"viewBox=\"0 0 24 24\"\n",
              "       width=\"24px\">\n",
              "    <path d=\"M0 0h24v24H0V0z\" fill=\"none\"/>\n",
              "    <path d=\"M18.56 5.44l.94 2.06.94-2.06 2.06-.94-2.06-.94-.94-2.06-.94 2.06-2.06.94zm-11 1L8.5 8.5l.94-2.06 2.06-.94-2.06-.94L8.5 2.5l-.94 2.06-2.06.94zm10 10l.94 2.06.94-2.06 2.06-.94-2.06-.94-.94-2.06-.94 2.06-2.06.94z\"/><path d=\"M17.41 7.96l-1.37-1.37c-.4-.4-.92-.59-1.43-.59-.52 0-1.04.2-1.43.59L10.3 9.45l-7.72 7.72c-.78.78-.78 2.05 0 2.83L4 21.41c.39.39.9.59 1.41.59.51 0 1.02-.2 1.41-.59l7.78-7.78 2.81-2.81c.8-.78.8-2.07 0-2.86zM5.41 20L4 18.59l7.72-7.72 1.47 1.35L5.41 20z\"/>\n",
              "  </svg>\n",
              "      </button>\n",
              "      \n",
              "  <style>\n",
              "    .colab-df-container {\n",
              "      display:flex;\n",
              "      flex-wrap:wrap;\n",
              "      gap: 12px;\n",
              "    }\n",
              "\n",
              "    .colab-df-convert {\n",
              "      background-color: #E8F0FE;\n",
              "      border: none;\n",
              "      border-radius: 50%;\n",
              "      cursor: pointer;\n",
              "      display: none;\n",
              "      fill: #1967D2;\n",
              "      height: 32px;\n",
              "      padding: 0 0 0 0;\n",
              "      width: 32px;\n",
              "    }\n",
              "\n",
              "    .colab-df-convert:hover {\n",
              "      background-color: #E2EBFA;\n",
              "      box-shadow: 0px 1px 2px rgba(60, 64, 67, 0.3), 0px 1px 3px 1px rgba(60, 64, 67, 0.15);\n",
              "      fill: #174EA6;\n",
              "    }\n",
              "\n",
              "    [theme=dark] .colab-df-convert {\n",
              "      background-color: #3B4455;\n",
              "      fill: #D2E3FC;\n",
              "    }\n",
              "\n",
              "    [theme=dark] .colab-df-convert:hover {\n",
              "      background-color: #434B5C;\n",
              "      box-shadow: 0px 1px 3px 1px rgba(0, 0, 0, 0.15);\n",
              "      filter: drop-shadow(0px 1px 2px rgba(0, 0, 0, 0.3));\n",
              "      fill: #FFFFFF;\n",
              "    }\n",
              "  </style>\n",
              "\n",
              "      <script>\n",
              "        const buttonEl =\n",
              "          document.querySelector('#df-382810d8-fb50-43f8-85ab-f911f70edf5d button.colab-df-convert');\n",
              "        buttonEl.style.display =\n",
              "          google.colab.kernel.accessAllowed ? 'block' : 'none';\n",
              "\n",
              "        async function convertToInteractive(key) {\n",
              "          const element = document.querySelector('#df-382810d8-fb50-43f8-85ab-f911f70edf5d');\n",
              "          const dataTable =\n",
              "            await google.colab.kernel.invokeFunction('convertToInteractive',\n",
              "                                                     [key], {});\n",
              "          if (!dataTable) return;\n",
              "\n",
              "          const docLinkHtml = 'Like what you see? Visit the ' +\n",
              "            '<a target=\"_blank\" href=https://colab.research.google.com/notebooks/data_table.ipynb>data table notebook</a>'\n",
              "            + ' to learn more about interactive tables.';\n",
              "          element.innerHTML = '';\n",
              "          dataTable['output_type'] = 'display_data';\n",
              "          await google.colab.output.renderOutput(dataTable, element);\n",
              "          const docLink = document.createElement('div');\n",
              "          docLink.innerHTML = docLinkHtml;\n",
              "          element.appendChild(docLink);\n",
              "        }\n",
              "      </script>\n",
              "    </div>\n",
              "  </div>\n",
              "  "
            ]
          },
          "metadata": {},
          "execution_count": 8
        }
      ]
    },
    {
      "cell_type": "code",
      "source": [
        "df_train['abstract'] = df_train['abstract'].apply(preprocess)\n",
        "df_train.head()"
      ],
      "metadata": {
        "id": "WeMqYpUmXmYp",
        "colab": {
          "base_uri": "https://localhost:8080/",
          "height": 206
        },
        "outputId": "68fa9e56-8708-4a64-d758-4e2d27db05c7"
      },
      "execution_count": 9,
      "outputs": [
        {
          "output_type": "execute_result",
          "data": {
            "text/plain": [
              "      label                                           abstract\n",
              "5268      5  spontaneous rupture of a normal bladder we hav...\n",
              "8913      2  detection of active intraabdominal arterial he...\n",
              "7548      5  vaginal bleeding in childhood and adolescence ...\n",
              "7278      3  fulminant hepatitis after lisinopril administr...\n",
              "9992      2  outpatient health care utilization of patient ..."
            ],
            "text/html": [
              "\n",
              "  <div id=\"df-5c1cc885-1d6e-4fbe-afde-f72cb1541bdb\">\n",
              "    <div class=\"colab-df-container\">\n",
              "      <div>\n",
              "<style scoped>\n",
              "    .dataframe tbody tr th:only-of-type {\n",
              "        vertical-align: middle;\n",
              "    }\n",
              "\n",
              "    .dataframe tbody tr th {\n",
              "        vertical-align: top;\n",
              "    }\n",
              "\n",
              "    .dataframe thead th {\n",
              "        text-align: right;\n",
              "    }\n",
              "</style>\n",
              "<table border=\"1\" class=\"dataframe\">\n",
              "  <thead>\n",
              "    <tr style=\"text-align: right;\">\n",
              "      <th></th>\n",
              "      <th>label</th>\n",
              "      <th>abstract</th>\n",
              "    </tr>\n",
              "  </thead>\n",
              "  <tbody>\n",
              "    <tr>\n",
              "      <th>5268</th>\n",
              "      <td>5</td>\n",
              "      <td>spontaneous rupture of a normal bladder we hav...</td>\n",
              "    </tr>\n",
              "    <tr>\n",
              "      <th>8913</th>\n",
              "      <td>2</td>\n",
              "      <td>detection of active intraabdominal arterial he...</td>\n",
              "    </tr>\n",
              "    <tr>\n",
              "      <th>7548</th>\n",
              "      <td>5</td>\n",
              "      <td>vaginal bleeding in childhood and adolescence ...</td>\n",
              "    </tr>\n",
              "    <tr>\n",
              "      <th>7278</th>\n",
              "      <td>3</td>\n",
              "      <td>fulminant hepatitis after lisinopril administr...</td>\n",
              "    </tr>\n",
              "    <tr>\n",
              "      <th>9992</th>\n",
              "      <td>2</td>\n",
              "      <td>outpatient health care utilization of patient ...</td>\n",
              "    </tr>\n",
              "  </tbody>\n",
              "</table>\n",
              "</div>\n",
              "      <button class=\"colab-df-convert\" onclick=\"convertToInteractive('df-5c1cc885-1d6e-4fbe-afde-f72cb1541bdb')\"\n",
              "              title=\"Convert this dataframe to an interactive table.\"\n",
              "              style=\"display:none;\">\n",
              "        \n",
              "  <svg xmlns=\"http://www.w3.org/2000/svg\" height=\"24px\"viewBox=\"0 0 24 24\"\n",
              "       width=\"24px\">\n",
              "    <path d=\"M0 0h24v24H0V0z\" fill=\"none\"/>\n",
              "    <path d=\"M18.56 5.44l.94 2.06.94-2.06 2.06-.94-2.06-.94-.94-2.06-.94 2.06-2.06.94zm-11 1L8.5 8.5l.94-2.06 2.06-.94-2.06-.94L8.5 2.5l-.94 2.06-2.06.94zm10 10l.94 2.06.94-2.06 2.06-.94-2.06-.94-.94-2.06-.94 2.06-2.06.94z\"/><path d=\"M17.41 7.96l-1.37-1.37c-.4-.4-.92-.59-1.43-.59-.52 0-1.04.2-1.43.59L10.3 9.45l-7.72 7.72c-.78.78-.78 2.05 0 2.83L4 21.41c.39.39.9.59 1.41.59.51 0 1.02-.2 1.41-.59l7.78-7.78 2.81-2.81c.8-.78.8-2.07 0-2.86zM5.41 20L4 18.59l7.72-7.72 1.47 1.35L5.41 20z\"/>\n",
              "  </svg>\n",
              "      </button>\n",
              "      \n",
              "  <style>\n",
              "    .colab-df-container {\n",
              "      display:flex;\n",
              "      flex-wrap:wrap;\n",
              "      gap: 12px;\n",
              "    }\n",
              "\n",
              "    .colab-df-convert {\n",
              "      background-color: #E8F0FE;\n",
              "      border: none;\n",
              "      border-radius: 50%;\n",
              "      cursor: pointer;\n",
              "      display: none;\n",
              "      fill: #1967D2;\n",
              "      height: 32px;\n",
              "      padding: 0 0 0 0;\n",
              "      width: 32px;\n",
              "    }\n",
              "\n",
              "    .colab-df-convert:hover {\n",
              "      background-color: #E2EBFA;\n",
              "      box-shadow: 0px 1px 2px rgba(60, 64, 67, 0.3), 0px 1px 3px 1px rgba(60, 64, 67, 0.15);\n",
              "      fill: #174EA6;\n",
              "    }\n",
              "\n",
              "    [theme=dark] .colab-df-convert {\n",
              "      background-color: #3B4455;\n",
              "      fill: #D2E3FC;\n",
              "    }\n",
              "\n",
              "    [theme=dark] .colab-df-convert:hover {\n",
              "      background-color: #434B5C;\n",
              "      box-shadow: 0px 1px 3px 1px rgba(0, 0, 0, 0.15);\n",
              "      filter: drop-shadow(0px 1px 2px rgba(0, 0, 0, 0.3));\n",
              "      fill: #FFFFFF;\n",
              "    }\n",
              "  </style>\n",
              "\n",
              "      <script>\n",
              "        const buttonEl =\n",
              "          document.querySelector('#df-5c1cc885-1d6e-4fbe-afde-f72cb1541bdb button.colab-df-convert');\n",
              "        buttonEl.style.display =\n",
              "          google.colab.kernel.accessAllowed ? 'block' : 'none';\n",
              "\n",
              "        async function convertToInteractive(key) {\n",
              "          const element = document.querySelector('#df-5c1cc885-1d6e-4fbe-afde-f72cb1541bdb');\n",
              "          const dataTable =\n",
              "            await google.colab.kernel.invokeFunction('convertToInteractive',\n",
              "                                                     [key], {});\n",
              "          if (!dataTable) return;\n",
              "\n",
              "          const docLinkHtml = 'Like what you see? Visit the ' +\n",
              "            '<a target=\"_blank\" href=https://colab.research.google.com/notebooks/data_table.ipynb>data table notebook</a>'\n",
              "            + ' to learn more about interactive tables.';\n",
              "          element.innerHTML = '';\n",
              "          dataTable['output_type'] = 'display_data';\n",
              "          await google.colab.output.renderOutput(dataTable, element);\n",
              "          const docLink = document.createElement('div');\n",
              "          docLink.innerHTML = docLinkHtml;\n",
              "          element.appendChild(docLink);\n",
              "        }\n",
              "      </script>\n",
              "    </div>\n",
              "  </div>\n",
              "  "
            ]
          },
          "metadata": {},
          "execution_count": 9
        }
      ]
    },
    {
      "cell_type": "code",
      "source": [
        "df_train['abstract'] = df_train['abstract'].apply(sentence_vector)"
      ],
      "metadata": {
        "id": "ee6gGFqEX9zt"
      },
      "execution_count": 10,
      "outputs": []
    },
    {
      "cell_type": "markdown",
      "source": [
        "Vectorizar test data"
      ],
      "metadata": {
        "id": "DCC23xZ7YHvV"
      }
    },
    {
      "cell_type": "code",
      "source": [
        "# df_test = DATA_TEST.copy().drop(df_test.index[50:])\n",
        "# df_test['abstract'] = df_test['abstract'].apply(preprocess)\n",
        "# df_test['abstract'] = df_test['abstract'].apply(sentence_vector)\n",
        "# df_test.head()"
      ],
      "metadata": {
        "id": "KWUNEGRtYB--"
      },
      "execution_count": null,
      "outputs": []
    },
    {
      "cell_type": "markdown",
      "source": [
        "### Dividir DATA en sets de train y de test aplicar PCA\n",
        "\n",
        "Como solo data_train viene con labels, dividiremos este dataset en sets de train y de test con la función `train_test_split` de sklearn.model_selection.\n",
        "\n"
      ],
      "metadata": {
        "id": "xNAhuFq7ZHds"
      }
    },
    {
      "cell_type": "code",
      "source": [
        "# Realiza aquí la separación balanceada en train y test\n",
        "X = df_train['abstract']\n",
        "y = df_train['label']\n",
        "X_train, X_test, y_train, y_test = train_test_split(X, y, test_size=0.25, random_state=10)"
      ],
      "metadata": {
        "id": "3JPvxV7CZHGe"
      },
      "execution_count": 17,
      "outputs": []
    },
    {
      "cell_type": "code",
      "source": [
        "X_train.shape"
      ],
      "metadata": {
        "id": "LuD_mua-dchE",
        "colab": {
          "base_uri": "https://localhost:8080/"
        },
        "outputId": "aa719c0f-6b36-4d8e-ae00-11d5c8c9645a"
      },
      "execution_count": 12,
      "outputs": [
        {
          "output_type": "execute_result",
          "data": {
            "text/plain": [
              "(562,)"
            ]
          },
          "metadata": {},
          "execution_count": 12
        }
      ]
    },
    {
      "cell_type": "code",
      "source": [
        "X_train = [i.tolist() for i in X_train.to_numpy()]\n",
        "X_test = [i.tolist() for i in X_test.to_numpy()]"
      ],
      "metadata": {
        "id": "5op9ppSEe-hX"
      },
      "execution_count": 21,
      "outputs": []
    },
    {
      "cell_type": "code",
      "source": [
        "print(len(X_train))\n",
        "print(len(X_train[0]))\n",
        "print(X_train[0])"
      ],
      "metadata": {
        "colab": {
          "base_uri": "https://localhost:8080/"
        },
        "id": "sFd3QardAmyJ",
        "outputId": "4469dfa2-f5c3-4886-b3ce-5133e2848692"
      },
      "execution_count": 25,
      "outputs": [
        {
          "output_type": "stream",
          "name": "stdout",
          "text": [
            "562\n",
            "300\n",
            "[-2.3413994312286377, 0.8796724081039429, -2.2623350620269775, 0.7361485362052917, 4.275763988494873, -0.06303739547729492, 0.5671176910400391, 4.308311462402344, -0.32585522532463074, -0.4600571393966675, 6.198325157165527, 1.36649751663208, -3.5023722648620605, 1.7251909971237183, 0.5927518606185913, 1.626184105873108, 1.2308510541915894, -0.5302327871322632, -2.264859914779663, -1.9821569919586182, 0.5182533860206604, -0.07896526157855988, -2.2009878158569336, 0.2723376452922821, -0.2964448630809784, -2.085529088973999, -2.521280527114868, -0.2781308591365814, -1.2437219619750977, 2.3845443725585938, 1.7617648839950562, 0.3011791408061981, -1.2995154857635498, -1.310420036315918, -1.9497414827346802, -1.8394651412963867, -0.08243899792432785, 1.8528952598571777, 1.726766586303711, 1.0977739095687866, -0.23010562360286713, -0.041012682020664215, 0.22355861961841583, 1.2733945846557617, -1.8432635068893433, 1.9859404563903809, 2.196747064590454, -1.7465753555297852, -0.6232430338859558, 1.3398882150650024, -0.7493678331375122, 2.463284969329834, -0.44381093978881836, -4.1211981773376465, -1.1191065311431885, 1.5557317733764648, 0.16290347278118134, 0.6951626539230347, 0.7827867269515991, -0.695550262928009, -0.1131390929222107, -0.7834176421165466, -1.8798811435699463, -0.9835506677627563, 1.8657958507537842, 1.8145599365234375, -2.3175241947174072, -2.7243711948394775, 0.49796900153160095, 3.5293006896972656, -0.7863620519638062, 0.09684693813323975, -1.7745262384414673, -0.12341365218162537, -1.1700838804244995, 1.3142340183258057, -2.978567123413086, 0.8749173283576965, -4.293330669403076, 0.48608121275901794, -4.375973701477051, 0.9807878136634827, 0.40860268473625183, 1.0791341066360474, 2.993354320526123, -0.2907750606536865, -2.0990469455718994, -1.9102602005004883, 2.4772026538848877, -0.4164036214351654, -1.1679540872573853, -0.11166981607675552, 2.264075994491577, -2.5214672088623047, 1.1540213823318481, -1.9149339199066162, 1.5990996360778809, -0.5774179100990295, -0.291024774312973, 2.176974058151245, 1.9442484378814697, 1.5261597633361816, 2.3524038791656494, 1.9488277435302734, -0.40796422958374023, 4.058427810668945, -0.5938811302185059, -2.6071131229400635, -0.009044705890119076, -1.8639034032821655, 1.7378090620040894, 0.3448474109172821, -2.1483585834503174, 0.8100264668464661, 0.7909353971481323, 0.29682448506355286, -1.2384203672409058, -0.43812111020088196, 0.7585665583610535, -1.389481544494629, -2.4045908451080322, -2.9477243423461914, -0.059209734201431274, 0.8900976181030273, -2.426100969314575, -3.7781224250793457, 0.581582248210907, -1.8019845485687256, 1.9509387016296387, -0.6583853960037231, -1.9101964235305786, 0.6130673289299011, 3.466730833053589, 0.39977824687957764, -0.4323386251926422, 0.5566408634185791, -2.4194064140319824, -0.6753363609313965, 2.0444676876068115, -0.9932866096496582, -1.7967896461486816, -0.3529013991355896, 0.33402344584465027, 0.2681821882724762, 1.1290769577026367, -0.5579779744148254, -3.6581244468688965, -0.7226914167404175, 2.200338840484619, 1.2480677366256714, -0.04082556813955307, 2.41070818901062, -0.29970788955688477, 0.8454598188400269, -0.5125952363014221, 1.0754534006118774, 2.374417543411255, -0.7304015159606934, -0.9990096688270569, -1.2121750116348267, -1.8001549243927002, -1.1207427978515625, 0.1589202880859375, 1.8035366535186768, -2.0816147327423096, -0.8997059464454651, -3.490934133529663, 0.48206865787506104, 0.9474838972091675, 1.1865562200546265, 0.8194228410720825, 0.057004623115062714, 2.861483573913574, -0.002736878115683794, 1.6131402254104614, -0.2548624277114868, 0.3897671103477478, -0.36197659373283386, -3.162689208984375, -1.9070595502853394, -0.3331752121448517, -0.3521648347377777, 1.2736691236495972, -0.928022027015686, -1.6038761138916016, -0.2396511286497116, -1.0361613035202026, 0.6137178540229797, 0.6635589599609375, 1.7123613357543945, -0.6537976264953613, -1.8817180395126343, 0.7305163145065308, -2.021300792694092, 0.06543402373790741, 0.3859952688217163, -2.964301109313965, -0.6629801988601685, -0.7384160161018372, -0.5780046582221985, -1.860161542892456, -1.8388843536376953, -0.9034438729286194, -2.6502809524536133, 2.754838228225708, 1.8202641010284424, -3.943441152572632, 1.8642209768295288, -0.5233149528503418, -0.3688581585884094, 1.3759517669677734, 1.826094388961792, -1.6680535078048706, 2.075258255004883, 0.48442357778549194, 2.645998001098633, 1.284633755683899, -3.013376474380493, -1.679099202156067, 1.2360541820526123, -2.595473527908325, 1.6582036018371582, -0.09251927584409714, -0.1902933418750763, -1.1092661619186401, -1.474286437034607, -0.6509294509887695, 2.2865331172943115, 2.8103854656219482, 0.3242010474205017, 2.400690793991089, -2.5385677814483643, 0.00905052199959755, 2.7827093601226807, 2.2474987506866455, 2.215559244155884, -0.9517211318016052, 0.8233717083930969, -0.8708747029304504, -1.0188969373703003, -1.206852912902832, -0.19800890982151031, 1.211323618888855, 1.4151108264923096, -0.8749810457229614, 1.8408080339431763, -2.689986228942871, 1.4057608842849731, 0.42038705945014954, 2.4420671463012695, 1.7778897285461426, -1.6054850816726685, -5.3953857421875, 0.180244579911232, 1.445969581604004, -3.2125604152679443, 2.175952196121216, 1.0665520429611206, 0.15470917522907257, 0.8715863823890686, -0.4300009310245514, 5.681103229522705, 3.942854166030884, 2.8724136352539062, 2.0832011699676514, -1.3333247900009155, 0.1254693865776062, 1.8457615375518799, -2.3123300075531006, 0.20479372143745422, 1.5748203992843628, -0.001377384178340435, 1.2127628326416016, -1.6962432861328125, 0.23580245673656464, -0.6097970008850098, 1.4060755968093872, -1.137015461921692, -1.0434701442718506, 1.251509666442871, 1.295412302017212, -0.1237163320183754, 1.4841116666793823, 1.8215423822402954, 3.3539299964904785, -1.8972136974334717, -0.16079197824001312, 1.5665740966796875, -0.8082913756370544, -0.12599512934684753, 0.5959680676460266, -0.39509671926498413, 1.0516493320465088, 0.4021214544773102, -1.4384748935699463, 0.9838904738426208, 1.0970746278762817, -2.3253865242004395, -2.337616205215454, 0.7107446193695068]\n"
          ]
        }
      ]
    },
    {
      "cell_type": "code",
      "source": [
        "y_train = y_train.to_numpy().tolist()\n"
      ],
      "metadata": {
        "id": "fKfw0nXFfJb8"
      },
      "execution_count": 18,
      "outputs": []
    },
    {
      "cell_type": "code",
      "source": [
        "print(len(y_train))"
      ],
      "metadata": {
        "colab": {
          "base_uri": "https://localhost:8080/"
        },
        "id": "LvXknBRNAkdL",
        "outputId": "6bb6d035-ba23-4a11-a6a9-88a9f6bb261e"
      },
      "execution_count": 19,
      "outputs": [
        {
          "output_type": "stream",
          "name": "stdout",
          "text": [
            "562\n"
          ]
        }
      ]
    },
    {
      "cell_type": "markdown",
      "source": [
        "Ahora, se aplicará PCA para reducir la dimensionalidad de los vectores retornados por NLP. Estos datos con dimensión menor constituirán una nueva data que se contrastará en la clasificaciones con la data original.\n",
        "\n",
        "\n",
        "\n",
        "\n",
        "\n"
      ],
      "metadata": {
        "id": "7dMe-jSvSSlW"
      }
    },
    {
      "cell_type": "code",
      "source": [
        "pca_train = PCA(n_components=0.95, svd_solver='full')\n",
        "X_train_pca = pca_train.fit_transform(X_train)\n",
        "n_filas, n_columnas = X_train_pca.shape\n",
        "print(X_train_pca.shape)\n",
        "\n",
        "pca_test = PCA(n_components=n_columnas, svd_solver='full')\n",
        "X_test_pca = pca_test.fit_transform(X_test)\n",
        "print(X_test_pca.shape)\n",
        "print(len(X_train_pca[0]), len(X_test_pca[0]))"
      ],
      "metadata": {
        "id": "aLjc1uyIS6jt",
        "colab": {
          "base_uri": "https://localhost:8080/"
        },
        "outputId": "6352e118-9396-4f81-df1a-6a444ee14a9f"
      },
      "execution_count": 28,
      "outputs": [
        {
          "output_type": "stream",
          "name": "stdout",
          "text": [
            "(562, 88)\n",
            "(188, 88)\n",
            "88 88\n"
          ]
        }
      ]
    },
    {
      "cell_type": "markdown",
      "source": [
        "## Clasificador"
      ],
      "metadata": {
        "id": "E1-4WJZnMXDY"
      }
    },
    {
      "cell_type": "markdown",
      "source": [
        "Linear SVC"
      ],
      "metadata": {
        "id": "GGQKsQzFm9Nv"
      }
    },
    {
      "cell_type": "code",
      "source": [
        "param_grid_linearSVC = {'C': [0.1, 1.0, 3.0, 100.0],\\\n",
        "              'loss': ['hinge', 'squared_hinge'],\\\n",
        "              'penalty': ['l1', 'l2']\n",
        "              }\n",
        "\n",
        "grid_linearSVC = GridSearchCV(LinearSVC(), param_grid_linearSVC, refit=True)\n",
        "grid_linearSVC.fit(X_train, y_train)\n",
        "clear_output()"
      ],
      "metadata": {
        "id": "hCxdfNoBpk_Y"
      },
      "execution_count": null,
      "outputs": []
    },
    {
      "cell_type": "code",
      "source": [
        "linearSVC = LinearSVC().set_params(**grid_linearSVC.best_params_)\n",
        "linearSVC.fit(X_train, y_train)\n",
        "y_predict_linearSVC = linearSVC.predict(X_test)"
      ],
      "metadata": {
        "id": "Qnf6dgPnMbIP",
        "colab": {
          "base_uri": "https://localhost:8080/"
        },
        "outputId": "3a978455-502e-426f-a132-6456b28209ea"
      },
      "execution_count": null,
      "outputs": [
        {
          "output_type": "stream",
          "name": "stderr",
          "text": [
            "/usr/local/lib/python3.8/dist-packages/sklearn/svm/_base.py:1206: ConvergenceWarning: Liblinear failed to converge, increase the number of iterations.\n",
            "  warnings.warn(\n"
          ]
        }
      ]
    },
    {
      "cell_type": "code",
      "source": [
        "print('hiperparámetros LinearSVC:', grid_linearSVC.best_params_)"
      ],
      "metadata": {
        "id": "7QUdeutU_s5h",
        "colab": {
          "base_uri": "https://localhost:8080/"
        },
        "outputId": "399eeb64-0c3c-43df-93b4-8a53cc3f6b26"
      },
      "execution_count": null,
      "outputs": [
        {
          "output_type": "stream",
          "name": "stdout",
          "text": [
            "hiperparámetros LinearSVC: {'C': 0.1, 'loss': 'hinge', 'penalty': 'l2'}\n"
          ]
        }
      ]
    },
    {
      "cell_type": "code",
      "source": [
        "print(\"Matriz de confusión Linear SVC\")\n",
        "cm_linearSVC = confusion_matrix(y_test, y_predict_linearSVC, normalize=\"all\")\n",
        "cm_display = ConfusionMatrixDisplay(cm_linearSVC).plot(cmap='magma')"
      ],
      "metadata": {
        "id": "UXGX1hD-5huN",
        "colab": {
          "base_uri": "https://localhost:8080/",
          "height": 296
        },
        "outputId": "8091f9b7-591d-4ef6-8684-f16564d939c4"
      },
      "execution_count": null,
      "outputs": [
        {
          "output_type": "stream",
          "name": "stdout",
          "text": [
            "Matriz de confusión Linear SVC\n"
          ]
        },
        {
          "output_type": "display_data",
          "data": {
            "text/plain": [
              "<Figure size 432x288 with 2 Axes>"
            ],
            "image/png": "[encoded data removed]"
          },
          "metadata": {
            "needs_background": "light"
          }
        }
      ]
    },
    {
      "cell_type": "code",
      "source": [
        "print(f\"Accuracy LinearSVC = {metrics.accuracy_score(y_test, y_predict_linearSVC) * 100} %\")"
      ],
      "metadata": {
        "id": "INvRiJtbezvg",
        "colab": {
          "base_uri": "https://localhost:8080/"
        },
        "outputId": "402bbc15-8e10-4391-dc06-d0287d6aecc6"
      },
      "execution_count": null,
      "outputs": [
        {
          "output_type": "stream",
          "name": "stdout",
          "text": [
            "Accuracy LinearSVC = 49.46808510638298 %\n"
          ]
        }
      ]
    },
    {
      "cell_type": "markdown",
      "source": [
        "Linear SVC (PCA)"
      ],
      "metadata": {
        "id": "IojzR36EXbVW"
      }
    },
    {
      "cell_type": "code",
      "source": [
        "param_grid_linearSVC = {'C': [0.1, 1.0, 3.0, 100.0],\\\n",
        "              'loss': ['hinge', 'squared_hinge'],\\\n",
        "              'penalty': ['l1', 'l2']\n",
        "              }\n",
        "\n",
        "grid_linearSVC = GridSearchCV(LinearSVC(), param_grid_linearSVC, refit=True)\n",
        "grid_linearSVC.fit(X_train_pca, y_train)\n",
        "clear_output()"
      ],
      "metadata": {
        "id": "Fi_55ZMHXhZk"
      },
      "execution_count": null,
      "outputs": []
    },
    {
      "cell_type": "code",
      "source": [
        "linearSVC = LinearSVC().set_params(**grid_linearSVC.best_params_)\n",
        "linearSVC.fit(X_train_pca, y_train)\n",
        "y_predict_linearSVC = linearSVC.predict(X_test_pca)"
      ],
      "metadata": {
        "id": "cFW1ainLXkyL",
        "colab": {
          "base_uri": "https://localhost:8080/"
        },
        "outputId": "813e69d9-9b57-4cf8-c869-e1159cab66b2"
      },
      "execution_count": null,
      "outputs": [
        {
          "output_type": "stream",
          "name": "stderr",
          "text": [
            "/usr/local/lib/python3.8/dist-packages/sklearn/svm/_base.py:1206: ConvergenceWarning: Liblinear failed to converge, increase the number of iterations.\n",
            "  warnings.warn(\n"
          ]
        }
      ]
    },
    {
      "cell_type": "code",
      "source": [
        "print('hiperparámetros LinearSVC:', grid_linearSVC.best_params_)"
      ],
      "metadata": {
        "id": "eCUY-ONaXnVB",
        "colab": {
          "base_uri": "https://localhost:8080/"
        },
        "outputId": "90455808-0de0-42e5-b1e6-395455bbf12c"
      },
      "execution_count": null,
      "outputs": [
        {
          "output_type": "stream",
          "name": "stdout",
          "text": [
            "hiperparámetros LinearSVC: {'C': 0.1, 'loss': 'hinge', 'penalty': 'l2'}\n"
          ]
        }
      ]
    },
    {
      "cell_type": "code",
      "source": [
        "print(\"Matriz de confusión Linear SVC\")\n",
        "cm_linearSVC = confusion_matrix(y_test, y_predict_linearSVC, normalize=\"all\")\n",
        "cm_display = ConfusionMatrixDisplay(cm_linearSVC).plot(cmap='magma')"
      ],
      "metadata": {
        "id": "nFrK4Uu0XpSz",
        "colab": {
          "base_uri": "https://localhost:8080/",
          "height": 296
        },
        "outputId": "517c56a0-b324-4aaf-99c8-d17b51d625a9"
      },
      "execution_count": null,
      "outputs": [
        {
          "output_type": "stream",
          "name": "stdout",
          "text": [
            "Matriz de confusión Linear SVC\n"
          ]
        },
        {
          "output_type": "display_data",
          "data": {
            "text/plain": [
              "<Figure size 432x288 with 2 Axes>"
            ],
            "image/png": "[encoded data removed]"
          },
          "metadata": {
            "needs_background": "light"
          }
        }
      ]
    },
    {
      "cell_type": "code",
      "source": [
        "print(f\"Accuracy LinearSVC = {metrics.accuracy_score(y_test, y_predict_linearSVC) * 100} %\")"
      ],
      "metadata": {
        "id": "b_aUmhO8XrtE",
        "colab": {
          "base_uri": "https://localhost:8080/"
        },
        "outputId": "f4d3f7be-7795-411d-dbb5-79eec29e9485"
      },
      "execution_count": null,
      "outputs": [
        {
          "output_type": "stream",
          "name": "stdout",
          "text": [
            "Accuracy LinearSVC = 18.617021276595743 %\n"
          ]
        }
      ]
    },
    {
      "cell_type": "markdown",
      "source": [
        "SVC\n"
      ],
      "metadata": {
        "id": "Z6UIZCQAiiTw"
      }
    },
    {
      "cell_type": "code",
      "source": [
        "param_grid_svc = {'C': [0.1,1, 10, 100],\\\n",
        "                  'gamma': [1,0.1,0.01,0.001],\\\n",
        "                  'kernel': ['rbf', 'poly', 'sigmoid']\\\n",
        "                  }\n",
        "\n",
        "grid_svc = GridSearchCV(SVC(), param_grid_svc, refit=True)\n",
        "grid_svc.fit(X_train, y_train)\n",
        "clear_output()"
      ],
      "metadata": {
        "id": "SFTt4mxtqWlO"
      },
      "execution_count": null,
      "outputs": []
    },
    {
      "cell_type": "code",
      "source": [
        "svc = SVC().set_params(**grid_svc.best_params_)\n",
        "svc.fit(X_train, y_train)\n",
        "y_predict_SVC = svc.predict(X_test)"
      ],
      "metadata": {
        "id": "GSsrD3NdqZJF"
      },
      "execution_count": null,
      "outputs": []
    },
    {
      "cell_type": "code",
      "source": [
        "print('hiperparámetros SVC:', grid_svc.best_params_)"
      ],
      "metadata": {
        "id": "yxArkIRx_1RZ",
        "colab": {
          "base_uri": "https://localhost:8080/"
        },
        "outputId": "5c60f568-babf-4269-f1f0-f0a20a15f042"
      },
      "execution_count": null,
      "outputs": [
        {
          "output_type": "stream",
          "name": "stdout",
          "text": [
            "hiperparámetros SVC: {'C': 10, 'gamma': 0.001, 'kernel': 'poly'}\n"
          ]
        }
      ]
    },
    {
      "cell_type": "code",
      "source": [
        "print(\"Matriz de confusión SVC\")\n",
        "cm_SVC = confusion_matrix(y_test, y_predict_SVC, normalize=\"all\")\n",
        "cm_display = ConfusionMatrixDisplay(cm_SVC).plot(cmap='magma')"
      ],
      "metadata": {
        "id": "x5NHIR7Hqasy",
        "colab": {
          "base_uri": "https://localhost:8080/",
          "height": 296
        },
        "outputId": "82748468-a99e-406f-d22a-9c59c2fc833c"
      },
      "execution_count": null,
      "outputs": [
        {
          "output_type": "stream",
          "name": "stdout",
          "text": [
            "Matriz de confusión SVC\n"
          ]
        },
        {
          "output_type": "display_data",
          "data": {
            "text/plain": [
              "<Figure size 432x288 with 2 Axes>"
            ],
            "image/png": "[encoded data removed]"
          },
          "metadata": {
            "needs_background": "light"
          }
        }
      ]
    },
    {
      "cell_type": "code",
      "source": [
        "print(f\"Accuracy SVC = {metrics.accuracy_score(y_test, y_predict_SVC) * 100} %\")"
      ],
      "metadata": {
        "id": "6HlnsSJIqcF5",
        "colab": {
          "base_uri": "https://localhost:8080/"
        },
        "outputId": "79e81da9-de2a-453a-e7bd-d8c939280058"
      },
      "execution_count": null,
      "outputs": [
        {
          "output_type": "stream",
          "name": "stdout",
          "text": [
            "Accuracy SVC = 42.5531914893617 %\n"
          ]
        }
      ]
    },
    {
      "cell_type": "markdown",
      "source": [
        "SVC (PCA)"
      ],
      "metadata": {
        "id": "qWZblSHHgL9N"
      }
    },
    {
      "cell_type": "code",
      "source": [
        "param_grid_svc = {'C': [0.1,1, 10, 100],\\\n",
        "                  'gamma': [1,0.1,0.01,0.001],\\\n",
        "                  'kernel': ['rbf', 'poly', 'sigmoid']\\\n",
        "                  }\n",
        "\n",
        "grid_svc = GridSearchCV(SVC(), param_grid_svc, refit=True)\n",
        "grid_svc.fit(X_train_pca, y_train)\n",
        "clear_output()"
      ],
      "metadata": {
        "id": "lPLLh7LIgNsj"
      },
      "execution_count": null,
      "outputs": []
    },
    {
      "cell_type": "code",
      "source": [
        "svc = SVC().set_params(**grid_svc.best_params_)\n",
        "svc.fit(X_train_pca, y_train)\n",
        "y_predict_SVC = svc.predict(X_test_pca)"
      ],
      "metadata": {
        "id": "SBnwcHGJgaCu"
      },
      "execution_count": null,
      "outputs": []
    },
    {
      "cell_type": "code",
      "source": [
        "print('hiperparámetros SVC:', grid_svc.best_params_)"
      ],
      "metadata": {
        "id": "GXrk1SHEgcCc",
        "colab": {
          "base_uri": "https://localhost:8080/"
        },
        "outputId": "ad80583c-90d8-468d-a757-95d522485994"
      },
      "execution_count": null,
      "outputs": [
        {
          "output_type": "stream",
          "name": "stdout",
          "text": [
            "hiperparámetros SVC: {'C': 100, 'gamma': 0.001, 'kernel': 'rbf'}\n"
          ]
        }
      ]
    },
    {
      "cell_type": "code",
      "source": [
        "print(\"Matriz de confusión SVC\")\n",
        "cm_SVC = confusion_matrix(y_test, y_predict_SVC, normalize=\"all\")\n",
        "cm_display = ConfusionMatrixDisplay(cm_SVC).plot(cmap='magma')"
      ],
      "metadata": {
        "id": "gqK718lxgeoc",
        "colab": {
          "base_uri": "https://localhost:8080/",
          "height": 296
        },
        "outputId": "3cbe7f75-5fcc-4cd6-9f47-bda4cafa78a7"
      },
      "execution_count": null,
      "outputs": [
        {
          "output_type": "stream",
          "name": "stdout",
          "text": [
            "Matriz de confusión SVC\n"
          ]
        },
        {
          "output_type": "display_data",
          "data": {
            "text/plain": [
              "<Figure size 432x288 with 2 Axes>"
            ],
            "image/png": "[encoded data removed]"
          },
          "metadata": {
            "needs_background": "light"
          }
        }
      ]
    },
    {
      "cell_type": "code",
      "source": [
        "print(f\"Accuracy SVC = {metrics.accuracy_score(y_test, y_predict_SVC) * 100} %\")"
      ],
      "metadata": {
        "id": "Oc-z13iNggw8",
        "colab": {
          "base_uri": "https://localhost:8080/"
        },
        "outputId": "e5fb90d8-b170-4d90-9e1f-7a21b35f57dd"
      },
      "execution_count": null,
      "outputs": [
        {
          "output_type": "stream",
          "name": "stdout",
          "text": [
            "Accuracy SVC = 20.74468085106383 %\n"
          ]
        }
      ]
    },
    {
      "cell_type": "markdown",
      "source": [
        "**PCA disminuye el accuracy. Mejor no utilizar.**"
      ],
      "metadata": {
        "id": "RZOP242qDcE4"
      }
    },
    {
      "cell_type": "markdown",
      "source": [
        "Random Forest"
      ],
      "metadata": {
        "id": "Jv_L39J8_o03"
      }
    },
    {
      "cell_type": "code",
      "source": [
        "param_grid_rfc = {'n_estimators': [10, 100, 500, 1000],\\\n",
        "                  'criterion': ['gini', 'entropy', 'log_loss']\n",
        "                  }\n",
        "\n",
        "grid_rfc = GridSearchCV(RFC(), param_grid_rfc, refit=True)\n",
        "grid_rfc.fit(X_train, y_train)\n",
        "clear_output()"
      ],
      "metadata": {
        "id": "Lsv6EvOplEvt"
      },
      "execution_count": null,
      "outputs": []
    },
    {
      "cell_type": "code",
      "source": [
        "rfc = RFC().set_params(**grid_rfc.best_params_)\n",
        "rfc.fit(X_train, y_train)\n",
        "y_predict_rfc = rfc.predict(X_test)"
      ],
      "metadata": {
        "id": "BRXC4BuE_tRK"
      },
      "execution_count": null,
      "outputs": []
    },
    {
      "cell_type": "code",
      "source": [
        "print('hiperparámetros RFC:', grid_rfc.best_params_)"
      ],
      "metadata": {
        "id": "8luXD0v1mOln",
        "colab": {
          "base_uri": "https://localhost:8080/"
        },
        "outputId": "0eba1e3b-d19e-4b0e-d741-1d89c09990b8"
      },
      "execution_count": null,
      "outputs": [
        {
          "output_type": "stream",
          "name": "stdout",
          "text": [
            "hiperparámetros RFC: {'criterion': 'entropy', 'n_estimators': 500}\n"
          ]
        }
      ]
    },
    {
      "cell_type": "code",
      "source": [
        "print(\"Matriz de confusión RFC\")\n",
        "cm_RFC = confusion_matrix(y_test, y_predict_rfc, normalize=\"all\")\n",
        "cm_display = ConfusionMatrixDisplay(cm_RFC).plot(cmap='magma')"
      ],
      "metadata": {
        "id": "qzO-AGRYmPkA",
        "colab": {
          "base_uri": "https://localhost:8080/",
          "height": 296
        },
        "outputId": "d8ab82d5-76d6-4682-e4f1-aff5ec1a1f70"
      },
      "execution_count": null,
      "outputs": [
        {
          "output_type": "stream",
          "name": "stdout",
          "text": [
            "Matriz de confusión RFC\n"
          ]
        },
        {
          "output_type": "display_data",
          "data": {
            "text/plain": [
              "<Figure size 432x288 with 2 Axes>"
            ],
            "image/png": "[encoded data removed]"
          },
          "metadata": {
            "needs_background": "light"
          }
        }
      ]
    },
    {
      "cell_type": "code",
      "source": [
        "print(f\"Accuracy RFC = {metrics.accuracy_score(y_test, y_predict_rfc) * 100} %\")"
      ],
      "metadata": {
        "id": "SAPWm4vUmShP",
        "colab": {
          "base_uri": "https://localhost:8080/"
        },
        "outputId": "70c55d23-0d9a-4dcf-b14c-00dface0cfd2"
      },
      "execution_count": null,
      "outputs": [
        {
          "output_type": "stream",
          "name": "stdout",
          "text": [
            "Accuracy RFC = 41.48936170212766 %\n"
          ]
        }
      ]
    },
    {
      "cell_type": "markdown",
      "source": [
        "MLP"
      ],
      "metadata": {
        "id": "PTo_OiTEkQ35"
      }
    },
    {
      "cell_type": "code",
      "source": [
        "param_grid_mlp = {\n",
        "    'hidden_layer_sizes': [(50, 100, 200, 200, 100, 50)],\n",
        "    'activation': ['logistic', 'relu'],\n",
        "    'max_iter': [100, 300, 500, 800],\n",
        "    'solver': ['sgd', 'adam'],\n",
        "    'learning_rate': ['constant', 'invscaling']\n",
        "}\n",
        "\n",
        "grid_MLP = GridSearchCV(MLPClassifier(), param_grid_mlp, refit=True)\n",
        "grid_MLP.fit(X_train, y_train)\n",
        "clear_output()"
      ],
      "metadata": {
        "id": "-A-DLN0qkR8Q"
      },
      "execution_count": null,
      "outputs": []
    },
    {
      "cell_type": "code",
      "source": [
        "mlp = MLPClassifier().set_params(**grid_MLP.best_params_)\n",
        "mlp.fit(X_train, y_train)\n",
        "y_predict_MLP = mlp.predict(X_test)"
      ],
      "metadata": {
        "id": "47xkon3cQUm6"
      },
      "execution_count": null,
      "outputs": []
    },
    {
      "cell_type": "code",
      "source": [
        "print('hiperparámetros MLP:', grid_MLP.best_params_)"
      ],
      "metadata": {
        "id": "vlTDYMM5Qfv7",
        "colab": {
          "base_uri": "https://localhost:8080/"
        },
        "outputId": "4627d953-47c5-4fc6-a919-1e1019464f1f"
      },
      "execution_count": null,
      "outputs": [
        {
          "output_type": "stream",
          "name": "stdout",
          "text": [
            "hiperparámetros MLP: {'activation': 'relu', 'hidden_layer_sizes': (50, 100, 200, 200, 100, 50), 'learning_rate': 'constant', 'max_iter': 800, 'solver': 'sgd'}\n"
          ]
        }
      ]
    },
    {
      "cell_type": "code",
      "source": [
        "print(\"Matriz de confusión MLP\")\n",
        "cm_MLP = confusion_matrix(y_test, y_predict_MLP, normalize=\"all\")\n",
        "cm_display = ConfusionMatrixDisplay(cm_MLP).plot(cmap='magma')"
      ],
      "metadata": {
        "id": "r82rYB5GQisF",
        "colab": {
          "base_uri": "https://localhost:8080/",
          "height": 296
        },
        "outputId": "7d543b0c-5485-4cbc-952c-b904febc1d1d"
      },
      "execution_count": null,
      "outputs": [
        {
          "output_type": "stream",
          "name": "stdout",
          "text": [
            "Matriz de confusión MLP\n"
          ]
        },
        {
          "output_type": "display_data",
          "data": {
            "text/plain": [
              "<Figure size 432x288 with 2 Axes>"
            ],
            "image/png": "[encoded data removed]"
          },
          "metadata": {
            "needs_background": "light"
          }
        }
      ]
    },
    {
      "cell_type": "code",
      "source": [
        "print(f\"Accuracy MLP = {metrics.accuracy_score(y_test, y_predict_MLP) * 100} %\")"
      ],
      "metadata": {
        "id": "nSJRs5QpQkpx",
        "colab": {
          "base_uri": "https://localhost:8080/"
        },
        "outputId": "4a592136-c1b6-40e9-fa38-d9527d0d83ae"
      },
      "execution_count": null,
      "outputs": [
        {
          "output_type": "stream",
          "name": "stdout",
          "text": [
            "Accuracy MLP = 40.42553191489361 %\n"
          ]
        }
      ]
    },
    {
      "cell_type": "markdown",
      "source": [
        "ADABoost"
      ],
      "metadata": {
        "id": "VhCRpDWCkSml"
      }
    },
    {
      "cell_type": "code",
      "source": [
        "param_grid_ada = {\n",
        "    'estimator': [DTC(max_depth=2), DTC(max_depth=10), DTC(max_depth=100)],\n",
        "    'n_estimators': [50, 100, 200, 300],\n",
        "    'learning_rate': [0, 10, 50, 100, 1000],\n",
        "    'algorithm': ['SAMME', 'SAMME.R'],\n",
        "}\n",
        "\n",
        "grid_ada = GridSearchCV(AdaBoostClassifier(), param_grid_ada, refit=True)\n",
        "grid_ada.fit(X_train, y_train)\n",
        "clear_output()"
      ],
      "metadata": {
        "id": "RxrlRWz1m_i0",
        "colab": {
          "base_uri": "https://localhost:8080/",
          "height": 380
        },
        "outputId": "35cb58fd-31b0-4895-d42d-c33bc66fae78"
      },
      "execution_count": null,
      "outputs": [
        {
          "output_type": "error",
          "ename": "ValueError",
          "evalue": "ignored",
          "traceback": [
            "\u001b[0;31m---------------------------------------------------------------------------\u001b[0m",
            "\u001b[0;31mValueError\u001b[0m                                Traceback (most recent call last)",
            "\u001b[0;32m<ipython-input-47-db116b415ef3>\u001b[0m in \u001b[0;36m<module>\u001b[0;34m\u001b[0m\n\u001b[1;32m      7\u001b[0m \u001b[0;34m\u001b[0m\u001b[0m\n\u001b[1;32m      8\u001b[0m \u001b[0mgrid_ada\u001b[0m \u001b[0;34m=\u001b[0m \u001b[0mGridSearchCV\u001b[0m\u001b[0;34m(\u001b[0m\u001b[0mAdaBoostClassifier\u001b[0m\u001b[0;34m(\u001b[0m\u001b[0;34m)\u001b[0m\u001b[0;34m,\u001b[0m \u001b[0mparam_grid_ada\u001b[0m\u001b[0;34m,\u001b[0m \u001b[0mrefit\u001b[0m\u001b[0;34m=\u001b[0m\u001b[0;32mTrue\u001b[0m\u001b[0;34m)\u001b[0m\u001b[0;34m\u001b[0m\u001b[0;34m\u001b[0m\u001b[0m\n\u001b[0;32m----> 9\u001b[0;31m \u001b[0mgrid_ada\u001b[0m\u001b[0;34m.\u001b[0m\u001b[0mfit\u001b[0m\u001b[0;34m(\u001b[0m\u001b[0mX_train\u001b[0m\u001b[0;34m,\u001b[0m \u001b[0my_train\u001b[0m\u001b[0;34m)\u001b[0m\u001b[0;34m\u001b[0m\u001b[0;34m\u001b[0m\u001b[0m\n\u001b[0m\u001b[1;32m     10\u001b[0m \u001b[0mclear_output\u001b[0m\u001b[0;34m(\u001b[0m\u001b[0;34m)\u001b[0m\u001b[0;34m\u001b[0m\u001b[0;34m\u001b[0m\u001b[0m\n",
            "\u001b[0;32m/usr/local/lib/python3.8/dist-packages/sklearn/model_selection/_search.py\u001b[0m in \u001b[0;36mfit\u001b[0;34m(self, X, y, groups, **fit_params)\u001b[0m\n\u001b[1;32m    889\u001b[0m                 \u001b[0;32mreturn\u001b[0m \u001b[0mresults\u001b[0m\u001b[0;34m\u001b[0m\u001b[0;34m\u001b[0m\u001b[0m\n\u001b[1;32m    890\u001b[0m \u001b[0;34m\u001b[0m\u001b[0m\n\u001b[0;32m--> 891\u001b[0;31m             \u001b[0mself\u001b[0m\u001b[0;34m.\u001b[0m\u001b[0m_run_search\u001b[0m\u001b[0;34m(\u001b[0m\u001b[0mevaluate_candidates\u001b[0m\u001b[0;34m)\u001b[0m\u001b[0;34m\u001b[0m\u001b[0;34m\u001b[0m\u001b[0m\n\u001b[0m\u001b[1;32m    892\u001b[0m \u001b[0;34m\u001b[0m\u001b[0m\n\u001b[1;32m    893\u001b[0m             \u001b[0;31m# multimetric is determined here because in the case of a callable\u001b[0m\u001b[0;34m\u001b[0m\u001b[0;34m\u001b[0m\u001b[0;34m\u001b[0m\u001b[0m\n",
            "\u001b[0;32m/usr/local/lib/python3.8/dist-packages/sklearn/model_selection/_search.py\u001b[0m in \u001b[0;36m_run_search\u001b[0;34m(self, evaluate_candidates)\u001b[0m\n\u001b[1;32m   1390\u001b[0m     \u001b[0;32mdef\u001b[0m \u001b[0m_run_search\u001b[0m\u001b[0;34m(\u001b[0m\u001b[0mself\u001b[0m\u001b[0;34m,\u001b[0m \u001b[0mevaluate_candidates\u001b[0m\u001b[0;34m)\u001b[0m\u001b[0;34m:\u001b[0m\u001b[0;34m\u001b[0m\u001b[0;34m\u001b[0m\u001b[0m\n\u001b[1;32m   1391\u001b[0m         \u001b[0;34m\"\"\"Search all candidates in param_grid\"\"\"\u001b[0m\u001b[0;34m\u001b[0m\u001b[0;34m\u001b[0m\u001b[0m\n\u001b[0;32m-> 1392\u001b[0;31m         \u001b[0mevaluate_candidates\u001b[0m\u001b[0;34m(\u001b[0m\u001b[0mParameterGrid\u001b[0m\u001b[0;34m(\u001b[0m\u001b[0mself\u001b[0m\u001b[0;34m.\u001b[0m\u001b[0mparam_grid\u001b[0m\u001b[0;34m)\u001b[0m\u001b[0;34m)\u001b[0m\u001b[0;34m\u001b[0m\u001b[0;34m\u001b[0m\u001b[0m\n\u001b[0m\u001b[1;32m   1393\u001b[0m \u001b[0;34m\u001b[0m\u001b[0m\n\u001b[1;32m   1394\u001b[0m \u001b[0;34m\u001b[0m\u001b[0m\n",
            "\u001b[0;32m/usr/local/lib/python3.8/dist-packages/sklearn/model_selection/_search.py\u001b[0m in \u001b[0;36mevaluate_candidates\u001b[0;34m(candidate_params, cv, more_results)\u001b[0m\n\u001b[1;32m    836\u001b[0m                     )\n\u001b[1;32m    837\u001b[0m \u001b[0;34m\u001b[0m\u001b[0m\n\u001b[0;32m--> 838\u001b[0;31m                 out = parallel(\n\u001b[0m\u001b[1;32m    839\u001b[0m                     delayed(_fit_and_score)(\n\u001b[1;32m    840\u001b[0m                         \u001b[0mclone\u001b[0m\u001b[0;34m(\u001b[0m\u001b[0mbase_estimator\u001b[0m\u001b[0;34m)\u001b[0m\u001b[0;34m,\u001b[0m\u001b[0;34m\u001b[0m\u001b[0;34m\u001b[0m\u001b[0m\n",
            "\u001b[0;32m/usr/local/lib/python3.8/dist-packages/joblib/parallel.py\u001b[0m in \u001b[0;36m__call__\u001b[0;34m(self, iterable)\u001b[0m\n\u001b[1;32m   1083\u001b[0m             \u001b[0;31m# remaining jobs.\u001b[0m\u001b[0;34m\u001b[0m\u001b[0;34m\u001b[0m\u001b[0;34m\u001b[0m\u001b[0m\n\u001b[1;32m   1084\u001b[0m             \u001b[0mself\u001b[0m\u001b[0;34m.\u001b[0m\u001b[0m_iterating\u001b[0m \u001b[0;34m=\u001b[0m \u001b[0;32mFalse\u001b[0m\u001b[0;34m\u001b[0m\u001b[0;34m\u001b[0m\u001b[0m\n\u001b[0;32m-> 1085\u001b[0;31m             \u001b[0;32mif\u001b[0m \u001b[0mself\u001b[0m\u001b[0;34m.\u001b[0m\u001b[0mdispatch_one_batch\u001b[0m\u001b[0;34m(\u001b[0m\u001b[0miterator\u001b[0m\u001b[0;34m)\u001b[0m\u001b[0;34m:\u001b[0m\u001b[0;34m\u001b[0m\u001b[0;34m\u001b[0m\u001b[0m\n\u001b[0m\u001b[1;32m   1086\u001b[0m                 \u001b[0mself\u001b[0m\u001b[0;34m.\u001b[0m\u001b[0m_iterating\u001b[0m \u001b[0;34m=\u001b[0m \u001b[0mself\u001b[0m\u001b[0;34m.\u001b[0m\u001b[0m_original_iterator\u001b[0m \u001b[0;32mis\u001b[0m \u001b[0;32mnot\u001b[0m \u001b[0;32mNone\u001b[0m\u001b[0;34m\u001b[0m\u001b[0;34m\u001b[0m\u001b[0m\n\u001b[1;32m   1087\u001b[0m \u001b[0;34m\u001b[0m\u001b[0m\n",
            "\u001b[0;32m/usr/local/lib/python3.8/dist-packages/joblib/parallel.py\u001b[0m in \u001b[0;36mdispatch_one_batch\u001b[0;34m(self, iterator)\u001b[0m\n\u001b[1;32m    899\u001b[0m                 \u001b[0;32mreturn\u001b[0m \u001b[0;32mFalse\u001b[0m\u001b[0;34m\u001b[0m\u001b[0;34m\u001b[0m\u001b[0m\n\u001b[1;32m    900\u001b[0m             \u001b[0;32melse\u001b[0m\u001b[0;34m:\u001b[0m\u001b[0;34m\u001b[0m\u001b[0;34m\u001b[0m\u001b[0m\n\u001b[0;32m--> 901\u001b[0;31m                 \u001b[0mself\u001b[0m\u001b[0;34m.\u001b[0m\u001b[0m_dispatch\u001b[0m\u001b[0;34m(\u001b[0m\u001b[0mtasks\u001b[0m\u001b[0;34m)\u001b[0m\u001b[0;34m\u001b[0m\u001b[0;34m\u001b[0m\u001b[0m\n\u001b[0m\u001b[1;32m    902\u001b[0m                 \u001b[0;32mreturn\u001b[0m \u001b[0;32mTrue\u001b[0m\u001b[0;34m\u001b[0m\u001b[0;34m\u001b[0m\u001b[0m\n\u001b[1;32m    903\u001b[0m \u001b[0;34m\u001b[0m\u001b[0m\n",
            "\u001b[0;32m/usr/local/lib/python3.8/dist-packages/joblib/parallel.py\u001b[0m in \u001b[0;36m_dispatch\u001b[0;34m(self, batch)\u001b[0m\n\u001b[1;32m    817\u001b[0m         \u001b[0;32mwith\u001b[0m \u001b[0mself\u001b[0m\u001b[0;34m.\u001b[0m\u001b[0m_lock\u001b[0m\u001b[0;34m:\u001b[0m\u001b[0;34m\u001b[0m\u001b[0;34m\u001b[0m\u001b[0m\n\u001b[1;32m    818\u001b[0m             \u001b[0mjob_idx\u001b[0m \u001b[0;34m=\u001b[0m \u001b[0mlen\u001b[0m\u001b[0;34m(\u001b[0m\u001b[0mself\u001b[0m\u001b[0;34m.\u001b[0m\u001b[0m_jobs\u001b[0m\u001b[0;34m)\u001b[0m\u001b[0;34m\u001b[0m\u001b[0;34m\u001b[0m\u001b[0m\n\u001b[0;32m--> 819\u001b[0;31m             \u001b[0mjob\u001b[0m \u001b[0;34m=\u001b[0m \u001b[0mself\u001b[0m\u001b[0;34m.\u001b[0m\u001b[0m_backend\u001b[0m\u001b[0;34m.\u001b[0m\u001b[0mapply_async\u001b[0m\u001b[0;34m(\u001b[0m\u001b[0mbatch\u001b[0m\u001b[0;34m,\u001b[0m \u001b[0mcallback\u001b[0m\u001b[0;34m=\u001b[0m\u001b[0mcb\u001b[0m\u001b[0;34m)\u001b[0m\u001b[0;34m\u001b[0m\u001b[0;34m\u001b[0m\u001b[0m\n\u001b[0m\u001b[1;32m    820\u001b[0m             \u001b[0;31m# A job can complete so quickly than its callback is\u001b[0m\u001b[0;34m\u001b[0m\u001b[0;34m\u001b[0m\u001b[0;34m\u001b[0m\u001b[0m\n\u001b[1;32m    821\u001b[0m             \u001b[0;31m# called before we get here, causing self._jobs to\u001b[0m\u001b[0;34m\u001b[0m\u001b[0;34m\u001b[0m\u001b[0;34m\u001b[0m\u001b[0m\n",
            "\u001b[0;32m/usr/local/lib/python3.8/dist-packages/joblib/_parallel_backends.py\u001b[0m in \u001b[0;36mapply_async\u001b[0;34m(self, func, callback)\u001b[0m\n\u001b[1;32m    206\u001b[0m     \u001b[0;32mdef\u001b[0m \u001b[0mapply_async\u001b[0m\u001b[0;34m(\u001b[0m\u001b[0mself\u001b[0m\u001b[0;34m,\u001b[0m \u001b[0mfunc\u001b[0m\u001b[0;34m,\u001b[0m \u001b[0mcallback\u001b[0m\u001b[0;34m=\u001b[0m\u001b[0;32mNone\u001b[0m\u001b[0;34m)\u001b[0m\u001b[0;34m:\u001b[0m\u001b[0;34m\u001b[0m\u001b[0;34m\u001b[0m\u001b[0m\n\u001b[1;32m    207\u001b[0m         \u001b[0;34m\"\"\"Schedule a func to be run\"\"\"\u001b[0m\u001b[0;34m\u001b[0m\u001b[0;34m\u001b[0m\u001b[0m\n\u001b[0;32m--> 208\u001b[0;31m         \u001b[0mresult\u001b[0m \u001b[0;34m=\u001b[0m \u001b[0mImmediateResult\u001b[0m\u001b[0;34m(\u001b[0m\u001b[0mfunc\u001b[0m\u001b[0;34m)\u001b[0m\u001b[0;34m\u001b[0m\u001b[0;34m\u001b[0m\u001b[0m\n\u001b[0m\u001b[1;32m    209\u001b[0m         \u001b[0;32mif\u001b[0m \u001b[0mcallback\u001b[0m\u001b[0;34m:\u001b[0m\u001b[0;34m\u001b[0m\u001b[0;34m\u001b[0m\u001b[0m\n\u001b[1;32m    210\u001b[0m             \u001b[0mcallback\u001b[0m\u001b[0;34m(\u001b[0m\u001b[0mresult\u001b[0m\u001b[0;34m)\u001b[0m\u001b[0;34m\u001b[0m\u001b[0;34m\u001b[0m\u001b[0m\n",
            "\u001b[0;32m/usr/local/lib/python3.8/dist-packages/joblib/_parallel_backends.py\u001b[0m in \u001b[0;36m__init__\u001b[0;34m(self, batch)\u001b[0m\n\u001b[1;32m    595\u001b[0m         \u001b[0;31m# Don't delay the application, to avoid keeping the input\u001b[0m\u001b[0;34m\u001b[0m\u001b[0;34m\u001b[0m\u001b[0;34m\u001b[0m\u001b[0m\n\u001b[1;32m    596\u001b[0m         \u001b[0;31m# arguments in memory\u001b[0m\u001b[0;34m\u001b[0m\u001b[0;34m\u001b[0m\u001b[0;34m\u001b[0m\u001b[0m\n\u001b[0;32m--> 597\u001b[0;31m         \u001b[0mself\u001b[0m\u001b[0;34m.\u001b[0m\u001b[0mresults\u001b[0m \u001b[0;34m=\u001b[0m \u001b[0mbatch\u001b[0m\u001b[0;34m(\u001b[0m\u001b[0;34m)\u001b[0m\u001b[0;34m\u001b[0m\u001b[0;34m\u001b[0m\u001b[0m\n\u001b[0m\u001b[1;32m    598\u001b[0m \u001b[0;34m\u001b[0m\u001b[0m\n\u001b[1;32m    599\u001b[0m     \u001b[0;32mdef\u001b[0m \u001b[0mget\u001b[0m\u001b[0;34m(\u001b[0m\u001b[0mself\u001b[0m\u001b[0;34m)\u001b[0m\u001b[0;34m:\u001b[0m\u001b[0;34m\u001b[0m\u001b[0;34m\u001b[0m\u001b[0m\n",
            "\u001b[0;32m/usr/local/lib/python3.8/dist-packages/joblib/parallel.py\u001b[0m in \u001b[0;36m__call__\u001b[0;34m(self)\u001b[0m\n\u001b[1;32m    286\u001b[0m         \u001b[0;31m# change the default number of processes to -1\u001b[0m\u001b[0;34m\u001b[0m\u001b[0;34m\u001b[0m\u001b[0;34m\u001b[0m\u001b[0m\n\u001b[1;32m    287\u001b[0m         \u001b[0;32mwith\u001b[0m \u001b[0mparallel_backend\u001b[0m\u001b[0;34m(\u001b[0m\u001b[0mself\u001b[0m\u001b[0;34m.\u001b[0m\u001b[0m_backend\u001b[0m\u001b[0;34m,\u001b[0m \u001b[0mn_jobs\u001b[0m\u001b[0;34m=\u001b[0m\u001b[0mself\u001b[0m\u001b[0;34m.\u001b[0m\u001b[0m_n_jobs\u001b[0m\u001b[0;34m)\u001b[0m\u001b[0;34m:\u001b[0m\u001b[0;34m\u001b[0m\u001b[0;34m\u001b[0m\u001b[0m\n\u001b[0;32m--> 288\u001b[0;31m             return [func(*args, **kwargs)\n\u001b[0m\u001b[1;32m    289\u001b[0m                     for func, args, kwargs in self.items]\n\u001b[1;32m    290\u001b[0m \u001b[0;34m\u001b[0m\u001b[0m\n",
            "\u001b[0;32m/usr/local/lib/python3.8/dist-packages/joblib/parallel.py\u001b[0m in \u001b[0;36m<listcomp>\u001b[0;34m(.0)\u001b[0m\n\u001b[1;32m    286\u001b[0m         \u001b[0;31m# change the default number of processes to -1\u001b[0m\u001b[0;34m\u001b[0m\u001b[0;34m\u001b[0m\u001b[0;34m\u001b[0m\u001b[0m\n\u001b[1;32m    287\u001b[0m         \u001b[0;32mwith\u001b[0m \u001b[0mparallel_backend\u001b[0m\u001b[0;34m(\u001b[0m\u001b[0mself\u001b[0m\u001b[0;34m.\u001b[0m\u001b[0m_backend\u001b[0m\u001b[0;34m,\u001b[0m \u001b[0mn_jobs\u001b[0m\u001b[0;34m=\u001b[0m\u001b[0mself\u001b[0m\u001b[0;34m.\u001b[0m\u001b[0m_n_jobs\u001b[0m\u001b[0;34m)\u001b[0m\u001b[0;34m:\u001b[0m\u001b[0;34m\u001b[0m\u001b[0;34m\u001b[0m\u001b[0m\n\u001b[0;32m--> 288\u001b[0;31m             return [func(*args, **kwargs)\n\u001b[0m\u001b[1;32m    289\u001b[0m                     for func, args, kwargs in self.items]\n\u001b[1;32m    290\u001b[0m \u001b[0;34m\u001b[0m\u001b[0m\n",
            "\u001b[0;32m/usr/local/lib/python3.8/dist-packages/sklearn/utils/fixes.py\u001b[0m in \u001b[0;36m__call__\u001b[0;34m(self, *args, **kwargs)\u001b[0m\n\u001b[1;32m    214\u001b[0m     \u001b[0;32mdef\u001b[0m \u001b[0m__call__\u001b[0m\u001b[0;34m(\u001b[0m\u001b[0mself\u001b[0m\u001b[0;34m,\u001b[0m \u001b[0;34m*\u001b[0m\u001b[0margs\u001b[0m\u001b[0;34m,\u001b[0m \u001b[0;34m**\u001b[0m\u001b[0mkwargs\u001b[0m\u001b[0;34m)\u001b[0m\u001b[0;34m:\u001b[0m\u001b[0;34m\u001b[0m\u001b[0;34m\u001b[0m\u001b[0m\n\u001b[1;32m    215\u001b[0m         \u001b[0;32mwith\u001b[0m \u001b[0mconfig_context\u001b[0m\u001b[0;34m(\u001b[0m\u001b[0;34m**\u001b[0m\u001b[0mself\u001b[0m\u001b[0;34m.\u001b[0m\u001b[0mconfig\u001b[0m\u001b[0;34m)\u001b[0m\u001b[0;34m:\u001b[0m\u001b[0;34m\u001b[0m\u001b[0;34m\u001b[0m\u001b[0m\n\u001b[0;32m--> 216\u001b[0;31m             \u001b[0;32mreturn\u001b[0m \u001b[0mself\u001b[0m\u001b[0;34m.\u001b[0m\u001b[0mfunction\u001b[0m\u001b[0;34m(\u001b[0m\u001b[0;34m*\u001b[0m\u001b[0margs\u001b[0m\u001b[0;34m,\u001b[0m \u001b[0;34m**\u001b[0m\u001b[0mkwargs\u001b[0m\u001b[0;34m)\u001b[0m\u001b[0;34m\u001b[0m\u001b[0;34m\u001b[0m\u001b[0m\n\u001b[0m\u001b[1;32m    217\u001b[0m \u001b[0;34m\u001b[0m\u001b[0m\n\u001b[1;32m    218\u001b[0m \u001b[0;34m\u001b[0m\u001b[0m\n",
            "\u001b[0;32m/usr/local/lib/python3.8/dist-packages/sklearn/model_selection/_validation.py\u001b[0m in \u001b[0;36m_fit_and_score\u001b[0;34m(estimator, X, y, scorer, train, test, verbose, parameters, fit_params, return_train_score, return_parameters, return_n_test_samples, return_times, return_estimator, split_progress, candidate_progress, error_score)\u001b[0m\n\u001b[1;32m    666\u001b[0m             \u001b[0mcloned_parameters\u001b[0m\u001b[0;34m[\u001b[0m\u001b[0mk\u001b[0m\u001b[0;34m]\u001b[0m \u001b[0;34m=\u001b[0m \u001b[0mclone\u001b[0m\u001b[0;34m(\u001b[0m\u001b[0mv\u001b[0m\u001b[0;34m,\u001b[0m \u001b[0msafe\u001b[0m\u001b[0;34m=\u001b[0m\u001b[0;32mFalse\u001b[0m\u001b[0;34m)\u001b[0m\u001b[0;34m\u001b[0m\u001b[0;34m\u001b[0m\u001b[0m\n\u001b[1;32m    667\u001b[0m \u001b[0;34m\u001b[0m\u001b[0m\n\u001b[0;32m--> 668\u001b[0;31m         \u001b[0mestimator\u001b[0m \u001b[0;34m=\u001b[0m \u001b[0mestimator\u001b[0m\u001b[0;34m.\u001b[0m\u001b[0mset_params\u001b[0m\u001b[0;34m(\u001b[0m\u001b[0;34m**\u001b[0m\u001b[0mcloned_parameters\u001b[0m\u001b[0;34m)\u001b[0m\u001b[0;34m\u001b[0m\u001b[0;34m\u001b[0m\u001b[0m\n\u001b[0m\u001b[1;32m    669\u001b[0m \u001b[0;34m\u001b[0m\u001b[0m\n\u001b[1;32m    670\u001b[0m     \u001b[0mstart_time\u001b[0m \u001b[0;34m=\u001b[0m \u001b[0mtime\u001b[0m\u001b[0;34m.\u001b[0m\u001b[0mtime\u001b[0m\u001b[0;34m(\u001b[0m\u001b[0;34m)\u001b[0m\u001b[0;34m\u001b[0m\u001b[0;34m\u001b[0m\u001b[0m\n",
            "\u001b[0;32m/usr/local/lib/python3.8/dist-packages/sklearn/base.py\u001b[0m in \u001b[0;36mset_params\u001b[0;34m(self, **params)\u001b[0m\n\u001b[1;32m    243\u001b[0m             \u001b[0mkey\u001b[0m\u001b[0;34m,\u001b[0m \u001b[0mdelim\u001b[0m\u001b[0;34m,\u001b[0m \u001b[0msub_key\u001b[0m \u001b[0;34m=\u001b[0m \u001b[0mkey\u001b[0m\u001b[0;34m.\u001b[0m\u001b[0mpartition\u001b[0m\u001b[0;34m(\u001b[0m\u001b[0;34m\"__\"\u001b[0m\u001b[0;34m)\u001b[0m\u001b[0;34m\u001b[0m\u001b[0;34m\u001b[0m\u001b[0m\n\u001b[1;32m    244\u001b[0m             \u001b[0;32mif\u001b[0m \u001b[0mkey\u001b[0m \u001b[0;32mnot\u001b[0m \u001b[0;32min\u001b[0m \u001b[0mvalid_params\u001b[0m\u001b[0;34m:\u001b[0m\u001b[0;34m\u001b[0m\u001b[0;34m\u001b[0m\u001b[0m\n\u001b[0;32m--> 245\u001b[0;31m                 raise ValueError(\n\u001b[0m\u001b[1;32m    246\u001b[0m                     \u001b[0;34m\"Invalid parameter %s for estimator %s. \"\u001b[0m\u001b[0;34m\u001b[0m\u001b[0;34m\u001b[0m\u001b[0m\n\u001b[1;32m    247\u001b[0m                     \u001b[0;34m\"Check the list of available parameters \"\u001b[0m\u001b[0;34m\u001b[0m\u001b[0;34m\u001b[0m\u001b[0m\n",
            "\u001b[0;31mValueError\u001b[0m: Invalid parameter estimator for estimator AdaBoostClassifier(algorithm='SAMME'). Check the list of available parameters with `estimator.get_params().keys()`."
          ]
        }
      ]
    },
    {
      "cell_type": "code",
      "source": [
        "abc = AdaBoostClassifier().set_params(**grid_ada.best_params_)\n",
        "abc.fit(X_train, y_train)\n",
        "y_predict_abc = abc.predict(X_test)"
      ],
      "metadata": {
        "id": "hhMnM8IZkTrF"
      },
      "execution_count": null,
      "outputs": []
    },
    {
      "cell_type": "code",
      "source": [
        "_print(\"Matriz de confusión ABC\")\n",
        "cm_abc = confusion_matrix(y_test, y_predict_abc, normalize=\"all\")\n",
        "cm_display = ConfusionMatrixDisplay(cm_abc).plot(cmap='magma')"
      ],
      "metadata": {
        "id": "D6W5toLNKjc3"
      },
      "execution_count": null,
      "outputs": []
    },
    {
      "cell_type": "code",
      "source": [
        "print(f\"Accuracy ABC = {metrics.accuracy_score(y_test, y_predict_abc) * 100} %\")"
      ],
      "metadata": {
        "id": "PnXXAxnuKk9y"
      },
      "execution_count": null,
      "outputs": []
    },
    {
      "cell_type": "markdown",
      "source": [
        "XGBoost"
      ],
      "metadata": {
        "id": "YtRlMkb1l_d4"
      }
    },
    {
      "cell_type": "code",
      "source": [
        "param_grid_xgb = {\n",
        "    'loss': ['log_loss', 'deviance', 'exponential'],\n",
        "    'n_estimators': [50, 100, 200, 300],\n",
        "    'learning_rate': [0, 10, 50, 100, 1000],\n",
        "    'criterion': ['friedman_mse', 'squared_error']   \n",
        "}\n",
        "\n",
        "grid_xgb = GridSearchCV(GradientBoostingClassifier(), param_grid_xgb, refit=True)\n",
        "grid_xgb.fit(X_train, y_train)\n",
        "clear_output()"
      ],
      "metadata": {
        "id": "RhJ3Tr72rbq-"
      },
      "execution_count": null,
      "outputs": []
    },
    {
      "cell_type": "code",
      "source": [
        "xgbc = GradientBoostingClassifier().set_params(**grid_xgb.best_params_)\n",
        "xgbc.fit(X_train, y_train)\n",
        "y_predict_xgbc = xgbc.predict(X_test)\n",
        "y_predict_xgbc2 = grid_xgb.predict(X_test)"
      ],
      "metadata": {
        "id": "CwbLnsGRrd-2"
      },
      "execution_count": null,
      "outputs": []
    },
    {
      "cell_type": "code",
      "source": [
        "print(\"Matriz de confusión XGBC\")\n",
        "cm_xgbc = confusion_matrix(y_test, y_predict_xgbc, normalize=\"all\")\n",
        "cm_display = ConfusionMatrixDisplay(cm_xgbc).plot(cmap='magma')"
      ],
      "metadata": {
        "id": "DWh7oTcSrfqH"
      },
      "execution_count": null,
      "outputs": []
    },
    {
      "cell_type": "code",
      "source": [
        "print(f\"Accuracy XGBC = {metrics.accuracy_score(y_test, y_predict_xgbc) * 100} %\")\n",
        "print(f\"Accuracy XGBC2 = {metrics.accuracy_score(y_test, y_predict_xgbc2) * 100} %\")"
      ],
      "metadata": {
        "id": "bNHWsArbrivN"
      },
      "execution_count": null,
      "outputs": []
    },
    {
      "cell_type": "markdown",
      "source": [
        "## Autoencoder"
      ],
      "metadata": {
        "id": "9QgqbYGNEMm3"
      }
    },
    {
      "cell_type": "markdown",
      "source": [],
      "metadata": {
        "id": "A0S-a0Y5Ea9u"
      }
    },
    {
      "cell_type": "code",
      "source": [
        "import numpy as np\n",
        "import tensorflow as tf\n",
        "from tensorflow import keras\n",
        "from tensorflow.keras import layers"
      ],
      "metadata": {
        "id": "7NbZpmN0HCqf"
      },
      "execution_count": 32,
      "outputs": []
    },
    {
      "cell_type": "code",
      "source": [
        "print(n_columnas)\n",
        "X_train_np=np.array(X_train)\n",
        "X_test_np=np.array(X_test)\n",
        "y_train_np=np.array(y_train)\n",
        "y_test_np=np.array(y_test)\n",
        "print(X_train_np.shape)\n",
        "print(y_train_np.shape)\n",
        "print(X_test_np.shape)\n",
        "print(y_test_np.shape)"
      ],
      "metadata": {
        "colab": {
          "base_uri": "https://localhost:8080/"
        },
        "id": "m0WIQZW1HZeL",
        "outputId": "ca4ac110-0b85-46a8-867b-196c1f307927"
      },
      "execution_count": 42,
      "outputs": [
        {
          "output_type": "stream",
          "name": "stdout",
          "text": [
            "88\n",
            "(562, 300)\n",
            "(562,)\n",
            "(188, 300)\n",
            "(188,)\n"
          ]
        }
      ]
    },
    {
      "cell_type": "code",
      "source": [
        "#Define aqui tu encoder, decoder y autoencoder\n",
        "\n",
        "#Input\n",
        "dim_entrada = X_train_np.shape[1] # dim_entrada=300\n",
        "#The shape of the data is set as a 300-dimensional vector, because only the shape of each sample is specified\n",
        "inputs = keras.Input(shape=(dim_entrada,), name=\"Inputs\")\n",
        "#print(inputs.shape) #(None, 300)\n",
        "#print(inputs.dtype) #<dtype: 'float32'>\n",
        "\n",
        "#encoder\n",
        "encoder = layers.Dense(150, activation=\"relu\", name=\"encoder_layer_1\")(inputs) # 1 layer\n",
        "encoder = layers.Dense(88, activation=\"relu\", name=\"encoder_layer_2\")(encoder) # 2 layer\n",
        "#encoder = layers.Dense(6,activation=\"relu\", name=\"layer_3\")(encoder)\n",
        "\n",
        "#decoder\n",
        "decoder = layers.Dense(150, activation='relu', name=\"decoder_layer_1\")(encoder)\n",
        "decoder = layers.Dense(300, activation='relu', name=\"decoder_layer_2\")(decoder)\n",
        "\n",
        "autoencoder = keras.Model(inputs=inputs, outputs=decoder, name=\"Autoencoder\")\n",
        "autoencoder.summary()\n",
        "#keras.utils.plot_model(model, \"model.png\")\n",
        "keras.utils.plot_model(autoencoder , \"Autoencoder info.png\", show_shapes=True)\n",
        "\n",
        "#COMPILACION!!!\n",
        "#sgd = keras.optimizers.SGD(learning_rate=0.01)\n",
        "autoencoder.compile(optimizer='sgd', loss='mse')"
      ],
      "metadata": {
        "colab": {
          "base_uri": "https://localhost:8080/"
        },
        "id": "kQHqfWQ8HbNG",
        "outputId": "ced7227e-0051-4ca5-aea2-e8b52a27ad60"
      },
      "execution_count": 43,
      "outputs": [
        {
          "output_type": "stream",
          "name": "stdout",
          "text": [
            "Model: \"Autoencoder\"\n",
            "_________________________________________________________________\n",
            " Layer (type)                Output Shape              Param #   \n",
            "=================================================================\n",
            " Inputs (InputLayer)         [(None, 300)]             0         \n",
            "                                                                 \n",
            " encoder_layer_1 (Dense)     (None, 150)               45150     \n",
            "                                                                 \n",
            " encoder_layer_2 (Dense)     (None, 88)                13288     \n",
            "                                                                 \n",
            " decoder_layer_1 (Dense)     (None, 150)               13350     \n",
            "                                                                 \n",
            " decoder_layer_2 (Dense)     (None, 300)               45300     \n",
            "                                                                 \n",
            "=================================================================\n",
            "Total params: 117,088\n",
            "Trainable params: 117,088\n",
            "Non-trainable params: 0\n",
            "_________________________________________________________________\n"
          ]
        }
      ]
    },
    {
      "cell_type": "code",
      "source": [
        "print(\"Fit model on training data\")\n",
        "numero_de_iteraciones = 100\n",
        "tamaño_lote = 10\n",
        "history=autoencoder.fit(X_train_np, X_train_np, epochs=numero_de_iteraciones, batch_size=tamaño_lote, validation_data=(X_test_np,X_test_np), shuffle=True, verbose=1)"
      ],
      "metadata": {
        "colab": {
          "base_uri": "https://localhost:8080/"
        },
        "id": "vJ_8bACUJNbt",
        "outputId": "f23a0ebe-ca4b-4887-ed33-ee0e77c7c5a1"
      },
      "execution_count": 45,
      "outputs": [
        {
          "output_type": "stream",
          "name": "stdout",
          "text": [
            "Fit model on training data\n",
            "Epoch 1/100\n",
            "57/57 [==============================] - 0s 7ms/step - loss: 2.2106 - val_loss: 2.2864\n",
            "Epoch 2/100\n",
            "57/57 [==============================] - 0s 6ms/step - loss: 2.2104 - val_loss: 2.2860\n",
            "Epoch 3/100\n",
            "57/57 [==============================] - 0s 4ms/step - loss: 2.2088 - val_loss: 2.2818\n",
            "Epoch 4/100\n",
            "57/57 [==============================] - 0s 4ms/step - loss: 2.2059 - val_loss: 2.2815\n",
            "Epoch 5/100\n",
            "57/57 [==============================] - 0s 4ms/step - loss: 2.2056 - val_loss: 2.2813\n",
            "Epoch 6/100\n",
            "57/57 [==============================] - 0s 4ms/step - loss: 2.2054 - val_loss: 2.2811\n",
            "Epoch 7/100\n",
            "57/57 [==============================] - 0s 3ms/step - loss: 2.2052 - val_loss: 2.2808\n",
            "Epoch 8/100\n",
            "57/57 [==============================] - 0s 3ms/step - loss: 2.2050 - val_loss: 2.2806\n",
            "Epoch 9/100\n",
            "57/57 [==============================] - 0s 4ms/step - loss: 2.2048 - val_loss: 2.2807\n",
            "Epoch 10/100\n",
            "57/57 [==============================] - 0s 3ms/step - loss: 2.2047 - val_loss: 2.2803\n",
            "Epoch 11/100\n",
            "57/57 [==============================] - 0s 4ms/step - loss: 2.2045 - val_loss: 2.2801\n",
            "Epoch 12/100\n",
            "57/57 [==============================] - 0s 3ms/step - loss: 2.2043 - val_loss: 2.2801\n",
            "Epoch 13/100\n",
            "57/57 [==============================] - 0s 4ms/step - loss: 2.2042 - val_loss: 2.2798\n",
            "Epoch 14/100\n",
            "57/57 [==============================] - 0s 4ms/step - loss: 2.2040 - val_loss: 2.2796\n",
            "Epoch 15/100\n",
            "57/57 [==============================] - 0s 3ms/step - loss: 2.2038 - val_loss: 2.2794\n",
            "Epoch 16/100\n",
            "57/57 [==============================] - 0s 3ms/step - loss: 2.2037 - val_loss: 2.2792\n",
            "Epoch 17/100\n",
            "57/57 [==============================] - 0s 3ms/step - loss: 2.2035 - val_loss: 2.2791\n",
            "Epoch 18/100\n",
            "57/57 [==============================] - 0s 4ms/step - loss: 2.2033 - val_loss: 2.2789\n",
            "Epoch 19/100\n",
            "57/57 [==============================] - 0s 4ms/step - loss: 2.2031 - val_loss: 2.2787\n",
            "Epoch 20/100\n",
            "57/57 [==============================] - 0s 4ms/step - loss: 2.2030 - val_loss: 2.2785\n",
            "Epoch 21/100\n",
            "57/57 [==============================] - 0s 3ms/step - loss: 2.2028 - val_loss: 2.2783\n",
            "Epoch 22/100\n",
            "57/57 [==============================] - 0s 3ms/step - loss: 2.2026 - val_loss: 2.2782\n",
            "Epoch 23/100\n",
            "57/57 [==============================] - 0s 4ms/step - loss: 2.2025 - val_loss: 2.2781\n",
            "Epoch 24/100\n",
            "57/57 [==============================] - 0s 4ms/step - loss: 2.2023 - val_loss: 2.2780\n",
            "Epoch 25/100\n",
            "57/57 [==============================] - 0s 3ms/step - loss: 2.2022 - val_loss: 2.2778\n",
            "Epoch 26/100\n",
            "57/57 [==============================] - 0s 4ms/step - loss: 2.2020 - val_loss: 2.2775\n",
            "Epoch 27/100\n",
            "57/57 [==============================] - 0s 3ms/step - loss: 2.2018 - val_loss: 2.2774\n",
            "Epoch 28/100\n",
            "57/57 [==============================] - 0s 3ms/step - loss: 2.2017 - val_loss: 2.2773\n",
            "Epoch 29/100\n",
            "57/57 [==============================] - 0s 4ms/step - loss: 2.2015 - val_loss: 2.2771\n",
            "Epoch 30/100\n",
            "57/57 [==============================] - 0s 3ms/step - loss: 2.2014 - val_loss: 2.2770\n",
            "Epoch 31/100\n",
            "57/57 [==============================] - 0s 3ms/step - loss: 2.2012 - val_loss: 2.2770\n",
            "Epoch 32/100\n",
            "57/57 [==============================] - 0s 4ms/step - loss: 2.2011 - val_loss: 2.2767\n",
            "Epoch 33/100\n",
            "57/57 [==============================] - 0s 4ms/step - loss: 2.2009 - val_loss: 2.2766\n",
            "Epoch 34/100\n",
            "57/57 [==============================] - 0s 3ms/step - loss: 2.2008 - val_loss: 2.2764\n",
            "Epoch 35/100\n",
            "57/57 [==============================] - 0s 4ms/step - loss: 2.2006 - val_loss: 2.2763\n",
            "Epoch 36/100\n",
            "57/57 [==============================] - 0s 3ms/step - loss: 2.2005 - val_loss: 2.2762\n",
            "Epoch 37/100\n",
            "57/57 [==============================] - 0s 4ms/step - loss: 2.2003 - val_loss: 2.2758\n",
            "Epoch 38/100\n",
            "57/57 [==============================] - 0s 3ms/step - loss: 2.2002 - val_loss: 2.2757\n",
            "Epoch 39/100\n",
            "57/57 [==============================] - 0s 4ms/step - loss: 2.2001 - val_loss: 2.2757\n",
            "Epoch 40/100\n",
            "57/57 [==============================] - 0s 3ms/step - loss: 2.1999 - val_loss: 2.2753\n",
            "Epoch 41/100\n",
            "57/57 [==============================] - 0s 4ms/step - loss: 2.1998 - val_loss: 2.2752\n",
            "Epoch 42/100\n",
            "57/57 [==============================] - 0s 4ms/step - loss: 2.1996 - val_loss: 2.2752\n",
            "Epoch 43/100\n",
            "57/57 [==============================] - 0s 4ms/step - loss: 2.1995 - val_loss: 2.2751\n",
            "Epoch 44/100\n",
            "57/57 [==============================] - 0s 4ms/step - loss: 2.1994 - val_loss: 2.2749\n",
            "Epoch 45/100\n",
            "57/57 [==============================] - 0s 4ms/step - loss: 2.1992 - val_loss: 2.2749\n",
            "Epoch 46/100\n",
            "57/57 [==============================] - 0s 3ms/step - loss: 2.1991 - val_loss: 2.2746\n",
            "Epoch 47/100\n",
            "57/57 [==============================] - 0s 4ms/step - loss: 2.1990 - val_loss: 2.2744\n",
            "Epoch 48/100\n",
            "57/57 [==============================] - 0s 3ms/step - loss: 2.1988 - val_loss: 2.2742\n",
            "Epoch 49/100\n",
            "57/57 [==============================] - 0s 4ms/step - loss: 2.1987 - val_loss: 2.2741\n",
            "Epoch 50/100\n",
            "57/57 [==============================] - 0s 4ms/step - loss: 2.1985 - val_loss: 2.2741\n",
            "Epoch 51/100\n",
            "57/57 [==============================] - 0s 3ms/step - loss: 2.1984 - val_loss: 2.2738\n",
            "Epoch 52/100\n",
            "57/57 [==============================] - 0s 4ms/step - loss: 2.1983 - val_loss: 2.2737\n",
            "Epoch 53/100\n",
            "57/57 [==============================] - 0s 3ms/step - loss: 2.1981 - val_loss: 2.2736\n",
            "Epoch 54/100\n",
            "57/57 [==============================] - 0s 3ms/step - loss: 2.1980 - val_loss: 2.2735\n",
            "Epoch 55/100\n",
            "57/57 [==============================] - 0s 4ms/step - loss: 2.1979 - val_loss: 2.2734\n",
            "Epoch 56/100\n",
            "57/57 [==============================] - 0s 3ms/step - loss: 2.1978 - val_loss: 2.2733\n",
            "Epoch 57/100\n",
            "57/57 [==============================] - 0s 4ms/step - loss: 2.1976 - val_loss: 2.2731\n",
            "Epoch 58/100\n",
            "57/57 [==============================] - 0s 3ms/step - loss: 2.1975 - val_loss: 2.2730\n",
            "Epoch 59/100\n",
            "57/57 [==============================] - 0s 4ms/step - loss: 2.1974 - val_loss: 2.2729\n",
            "Epoch 60/100\n",
            "57/57 [==============================] - 0s 3ms/step - loss: 2.1973 - val_loss: 2.2726\n",
            "Epoch 61/100\n",
            "57/57 [==============================] - 0s 3ms/step - loss: 2.1971 - val_loss: 2.2725\n",
            "Epoch 62/100\n",
            "57/57 [==============================] - 0s 3ms/step - loss: 2.1970 - val_loss: 2.2725\n",
            "Epoch 63/100\n",
            "57/57 [==============================] - 0s 4ms/step - loss: 2.1968 - val_loss: 2.2723\n",
            "Epoch 64/100\n",
            "57/57 [==============================] - 0s 4ms/step - loss: 2.1967 - val_loss: 2.2719\n",
            "Epoch 65/100\n",
            "57/57 [==============================] - 0s 3ms/step - loss: 2.1963 - val_loss: 2.2711\n",
            "Epoch 66/100\n",
            "57/57 [==============================] - 0s 3ms/step - loss: 2.1957 - val_loss: 2.2706\n",
            "Epoch 67/100\n",
            "57/57 [==============================] - 0s 3ms/step - loss: 2.1956 - val_loss: 2.2706\n",
            "Epoch 68/100\n",
            "57/57 [==============================] - 0s 4ms/step - loss: 2.1954 - val_loss: 2.2705\n",
            "Epoch 69/100\n",
            "57/57 [==============================] - 0s 3ms/step - loss: 2.1953 - val_loss: 2.2704\n",
            "Epoch 70/100\n",
            "57/57 [==============================] - 0s 3ms/step - loss: 2.1952 - val_loss: 2.2701\n",
            "Epoch 71/100\n",
            "57/57 [==============================] - 0s 4ms/step - loss: 2.1950 - val_loss: 2.2700\n",
            "Epoch 72/100\n",
            "57/57 [==============================] - 0s 4ms/step - loss: 2.1949 - val_loss: 2.2699\n",
            "Epoch 73/100\n",
            "57/57 [==============================] - 0s 3ms/step - loss: 2.1948 - val_loss: 2.2697\n",
            "Epoch 74/100\n",
            "57/57 [==============================] - 0s 3ms/step - loss: 2.1947 - val_loss: 2.2698\n",
            "Epoch 75/100\n",
            "57/57 [==============================] - 0s 4ms/step - loss: 2.1946 - val_loss: 2.2696\n",
            "Epoch 76/100\n",
            "57/57 [==============================] - 0s 3ms/step - loss: 2.1944 - val_loss: 2.2694\n",
            "Epoch 77/100\n",
            "57/57 [==============================] - 0s 3ms/step - loss: 2.1943 - val_loss: 2.2695\n",
            "Epoch 78/100\n",
            "57/57 [==============================] - 0s 3ms/step - loss: 2.1943 - val_loss: 2.2692\n",
            "Epoch 79/100\n",
            "57/57 [==============================] - 0s 4ms/step - loss: 2.1941 - val_loss: 2.2691\n",
            "Epoch 80/100\n",
            "57/57 [==============================] - 0s 3ms/step - loss: 2.1940 - val_loss: 2.2690\n",
            "Epoch 81/100\n",
            "57/57 [==============================] - 0s 3ms/step - loss: 2.1939 - val_loss: 2.2689\n",
            "Epoch 82/100\n",
            "57/57 [==============================] - 0s 4ms/step - loss: 2.1938 - val_loss: 2.2689\n",
            "Epoch 83/100\n",
            "57/57 [==============================] - 0s 4ms/step - loss: 2.1937 - val_loss: 2.2686\n",
            "Epoch 84/100\n",
            "57/57 [==============================] - 0s 4ms/step - loss: 2.1936 - val_loss: 2.2684\n",
            "Epoch 85/100\n",
            "57/57 [==============================] - 0s 3ms/step - loss: 2.1935 - val_loss: 2.2684\n",
            "Epoch 86/100\n",
            "57/57 [==============================] - 0s 3ms/step - loss: 2.1934 - val_loss: 2.2684\n",
            "Epoch 87/100\n",
            "57/57 [==============================] - 0s 4ms/step - loss: 2.1933 - val_loss: 2.2683\n",
            "Epoch 88/100\n",
            "57/57 [==============================] - 0s 3ms/step - loss: 2.1932 - val_loss: 2.2681\n",
            "Epoch 89/100\n",
            "57/57 [==============================] - 0s 3ms/step - loss: 2.1930 - val_loss: 2.2681\n",
            "Epoch 90/100\n",
            "57/57 [==============================] - 0s 3ms/step - loss: 2.1929 - val_loss: 2.2680\n",
            "Epoch 91/100\n",
            "57/57 [==============================] - 0s 3ms/step - loss: 2.1928 - val_loss: 2.2679\n",
            "Epoch 92/100\n",
            "57/57 [==============================] - 0s 3ms/step - loss: 2.1927 - val_loss: 2.2677\n",
            "Epoch 93/100\n",
            "57/57 [==============================] - 0s 4ms/step - loss: 2.1927 - val_loss: 2.2676\n",
            "Epoch 94/100\n",
            "57/57 [==============================] - 0s 3ms/step - loss: 2.1925 - val_loss: 2.2675\n",
            "Epoch 95/100\n",
            "57/57 [==============================] - 0s 3ms/step - loss: 2.1925 - val_loss: 2.2674\n",
            "Epoch 96/100\n",
            "57/57 [==============================] - 0s 3ms/step - loss: 2.1924 - val_loss: 2.2674\n",
            "Epoch 97/100\n",
            "57/57 [==============================] - 0s 3ms/step - loss: 2.1923 - val_loss: 2.2672\n",
            "Epoch 98/100\n",
            "57/57 [==============================] - 0s 4ms/step - loss: 2.1922 - val_loss: 2.2670\n",
            "Epoch 99/100\n",
            "57/57 [==============================] - 0s 4ms/step - loss: 2.1921 - val_loss: 2.2670\n",
            "Epoch 100/100\n",
            "57/57 [==============================] - 0s 3ms/step - loss: 2.1920 - val_loss: 2.2670\n"
          ]
        }
      ]
    },
    {
      "cell_type": "code",
      "source": [
        "plt.plot(history.history[\"loss\"])\n",
        "plt.title(\"Loss training set vs. Epoch\")\n",
        "plt.ylabel(\"Loss\")\n",
        "plt.xlabel(\"Epoch\")\n",
        "plt.grid(True)"
      ],
      "metadata": {
        "colab": {
          "base_uri": "https://localhost:8080/",
          "height": 295
        },
        "id": "bmmHAfgoXLoz",
        "outputId": "a75e07fe-4c75-4638-b4a0-91ca344c2030"
      },
      "execution_count": 46,
      "outputs": [
        {
          "output_type": "display_data",
          "data": {
            "text/plain": [
              "<Figure size 432x288 with 1 Axes>"
            ],
            "image/png": "[encoded data removed]"
          },
          "metadata": {
            "needs_background": "light"
          }
        }
      ]
    },
    {
      "cell_type": "code",
      "source": [
        "#Haz la predicción\n",
        "model_encoder = keras.Model(inputs, encoder, name=\"encoder\")\n",
        "model_encoder.summary()\n",
        "\n",
        "X_encoded=model_encoder(X_train_np).numpy()\n",
        "print()\n",
        "print(X_encoded.shape)"
      ],
      "metadata": {
        "colab": {
          "base_uri": "https://localhost:8080/"
        },
        "id": "Dha_qpE-X0CY",
        "outputId": "735c8c78-f694-4241-d001-90a5000ffe79"
      },
      "execution_count": 52,
      "outputs": [
        {
          "output_type": "stream",
          "name": "stdout",
          "text": [
            "Model: \"encoder\"\n",
            "_________________________________________________________________\n",
            " Layer (type)                Output Shape              Param #   \n",
            "=================================================================\n",
            " Inputs (InputLayer)         [(None, 300)]             0         \n",
            "                                                                 \n",
            " encoder_layer_1 (Dense)     (None, 150)               45150     \n",
            "                                                                 \n",
            " encoder_layer_2 (Dense)     (None, 88)                13288     \n",
            "                                                                 \n",
            "=================================================================\n",
            "Total params: 58,438\n",
            "Trainable params: 58,438\n",
            "Non-trainable params: 0\n",
            "_________________________________________________________________\n",
            "\n",
            "(562, 88)\n"
          ]
        }
      ]
    }
  ],
  "metadata": {
    "language_info": {
      "name": "python"
    },
    "orig_nbformat": 4,
    "colab": {
      "provenance": [],
      "include_colab_link": true
    },
    "kernelspec": {
      "name": "python3",
      "display_name": "Python 3"
    },
    "gpuClass": "standard"
  },
  "nbformat": 4,
  "nbformat_minor": 0
}